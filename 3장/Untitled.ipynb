{
 "cells": [
  {
   "cell_type": "code",
   "execution_count": 1,
   "id": "2abd8329-d45f-4c90-ac35-8908182c5d17",
   "metadata": {},
   "outputs": [
    {
     "name": "stdin",
     "output_type": "stream",
     "text": [
      "연산의 종류를 입력하시오 a\n",
      "첫 번째 값을 입력하시오 133\n",
      "두 번째 값을 입력하시오 42\n"
     ]
    },
    {
     "name": "stdout",
     "output_type": "stream",
     "text": [
      "175\n"
     ]
    }
   ],
   "source": [
    "def add (x, y):\n",
    "    return x + y\n",
    "\n",
    "def sub (x, y):\n",
    "    return x - y\n",
    "\n",
    "def mul (x, y):\n",
    "    return x * y\n",
    "\n",
    "def div (x, y):\n",
    "    return x / y\n",
    "\n",
    "def apply_function(f, a, b):\n",
    "    return f(a, b)\n",
    "\n",
    "op = input(\"연산의 종류를 입력하시오\")\n",
    "x = int(input(\"첫 번째 값을 입력하시오\"))\n",
    "y = int(input(\"두 번째 값을 입력하시오\"))\n",
    "\n",
    "if op == 'a':\n",
    "    f = add\n",
    "elif op == 's':\n",
    "    f = sub\n",
    "elif op == 'm':\n",
    "    f = mul\n",
    "elif op == 'd':\n",
    "    f = div\n",
    "\n",
    "print(apply_function(f, x, y))"
   ]
  },
  {
   "cell_type": "code",
   "execution_count": null,
   "id": "446a09d9-3043-4c44-b955-e3c98c5d492a",
   "metadata": {},
   "outputs": [],
   "source": []
  },
  {
   "cell_type": "code",
   "execution_count": null,
   "id": "0be119ed-6870-4f5c-9d89-631b07990eff",
   "metadata": {},
   "outputs": [],
   "source": []
  }
 ],
 "metadata": {
  "kernelspec": {
   "display_name": "Python 3",
   "language": "python",
   "name": "python3"
  },
  "language_info": {
   "codemirror_mode": {
    "name": "ipython",
    "version": 3
   },
   "file_extension": ".py",
   "mimetype": "text/x-python",
   "name": "python",
   "nbconvert_exporter": "python",
   "pygments_lexer": "ipython3",
   "version": "3.8.8"
  }
 },
 "nbformat": 4,
 "nbformat_minor": 5
}
