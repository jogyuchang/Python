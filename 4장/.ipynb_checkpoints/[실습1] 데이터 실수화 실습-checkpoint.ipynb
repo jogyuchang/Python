{
 "cells": [
  {
   "cell_type": "code",
   "execution_count": 7,
   "id": "bd985da5-e92e-41a3-9170-7b55c3cf29ec",
   "metadata": {},
   "outputs": [
    {
     "data": {
      "text/html": [
       "<div>\n",
       "<style scoped>\n",
       "    .dataframe tbody tr th:only-of-type {\n",
       "        vertical-align: middle;\n",
       "    }\n",
       "\n",
       "    .dataframe tbody tr th {\n",
       "        vertical-align: top;\n",
       "    }\n",
       "\n",
       "    .dataframe thead th {\n",
       "        text-align: right;\n",
       "    }\n",
       "</style>\n",
       "<table border=\"1\" class=\"dataframe\">\n",
       "  <thead>\n",
       "    <tr style=\"text-align: right;\">\n",
       "      <th></th>\n",
       "      <th>성별</th>\n",
       "    </tr>\n",
       "  </thead>\n",
       "  <tbody>\n",
       "    <tr>\n",
       "      <th>0</th>\n",
       "      <td>남성</td>\n",
       "    </tr>\n",
       "    <tr>\n",
       "      <th>1</th>\n",
       "      <td>여성</td>\n",
       "    </tr>\n",
       "    <tr>\n",
       "      <th>2</th>\n",
       "      <td>남성</td>\n",
       "    </tr>\n",
       "  </tbody>\n",
       "</table>\n",
       "</div>"
      ],
      "text/plain": [
       "   성별\n",
       "0  남성\n",
       "1  여성\n",
       "2  남성"
      ]
     },
     "execution_count": 7,
     "metadata": {},
     "output_type": "execute_result"
    }
   ],
   "source": [
    "import pandas as pd # pandas package 임포트\n",
    "from sklearn.preprocessing import LabelEncoder # 범주형 실수화 함수 임포트\n",
    "from sklearn.preprocessing import OneHotEncoder # 더미변수 생성, 가변환 함수 임포트\n",
    "\n",
    "# 데이터 set 생성\n",
    "x_train = pd.DataFrame([\"남성\", \"여성\",\"남성\",\"여성\",\"남성\",\"야상0\"], columns=[\"성별\"])\n",
    "# 데이터 확인\n",
    "x_train.head(3)"
   ]
  },
  {
   "cell_type": "code",
   "execution_count": 8,
   "id": "1086ebc7-d25f-4a98-a43e-fd6648a93ad3",
   "metadata": {},
   "outputs": [
    {
     "name": "stdout",
     "output_type": "stream",
     "text": [
      "<class 'pandas.core.frame.DataFrame'>\n",
      "RangeIndex: 6 entries, 0 to 5\n",
      "Data columns (total 1 columns):\n",
      " #   Column  Non-Null Count  Dtype \n",
      "---  ------  --------------  ----- \n",
      " 0   성별      6 non-null      object\n",
      "dtypes: object(1)\n",
      "memory usage: 176.0+ bytes\n"
     ]
    }
   ],
   "source": [
    "x_train.info() # 데이터 프레임의 정보 확인 : object 타입 '성별' 변수"
   ]
  },
  {
   "cell_type": "code",
   "execution_count": 9,
   "id": "ab77b923-a2e3-4c09-9295-26245e437f09",
   "metadata": {},
   "outputs": [
    {
     "data": {
      "text/plain": [
       "남성     3\n",
       "여성     2\n",
       "야상0    1\n",
       "Name: 성별, dtype: int64"
      ]
     },
     "execution_count": 9,
     "metadata": {},
     "output_type": "execute_result"
    }
   ],
   "source": [
    "x_train['성별'].value_counts() # 범주형 데이터의 갯수 확인"
   ]
  },
  {
   "cell_type": "code",
   "execution_count": 10,
   "id": "8d3003ad-9d0c-4fde-9f62-043b86559d45",
   "metadata": {},
   "outputs": [],
   "source": [
    "#레이블 인코더 생성\n",
    "encoing = LabelEncoder()\n",
    "# X_train 데이터를 이용하여 피팅하고 레이블 숫자로 변환\n",
    "encoing.fit(x_train[\"성별\"])\n",
    "x_train[\"성별_인코딩\"] = encoing.transform(x_train[\"성별\"])"
   ]
  },
  {
   "cell_type": "code",
   "execution_count": 11,
   "id": "4288452c-8a50-42b6-98ea-a4480245ff9c",
   "metadata": {},
   "outputs": [
    {
     "data": {
      "text/html": [
       "<div>\n",
       "<style scoped>\n",
       "    .dataframe tbody tr th:only-of-type {\n",
       "        vertical-align: middle;\n",
       "    }\n",
       "\n",
       "    .dataframe tbody tr th {\n",
       "        vertical-align: top;\n",
       "    }\n",
       "\n",
       "    .dataframe thead th {\n",
       "        text-align: right;\n",
       "    }\n",
       "</style>\n",
       "<table border=\"1\" class=\"dataframe\">\n",
       "  <thead>\n",
       "    <tr style=\"text-align: right;\">\n",
       "      <th></th>\n",
       "      <th>성별</th>\n",
       "      <th>성별_인코딩</th>\n",
       "    </tr>\n",
       "  </thead>\n",
       "  <tbody>\n",
       "    <tr>\n",
       "      <th>0</th>\n",
       "      <td>남성</td>\n",
       "      <td>0</td>\n",
       "    </tr>\n",
       "    <tr>\n",
       "      <th>1</th>\n",
       "      <td>여성</td>\n",
       "      <td>2</td>\n",
       "    </tr>\n",
       "    <tr>\n",
       "      <th>2</th>\n",
       "      <td>남성</td>\n",
       "      <td>0</td>\n",
       "    </tr>\n",
       "    <tr>\n",
       "      <th>3</th>\n",
       "      <td>여성</td>\n",
       "      <td>2</td>\n",
       "    </tr>\n",
       "    <tr>\n",
       "      <th>4</th>\n",
       "      <td>남성</td>\n",
       "      <td>0</td>\n",
       "    </tr>\n",
       "    <tr>\n",
       "      <th>5</th>\n",
       "      <td>야상0</td>\n",
       "      <td>1</td>\n",
       "    </tr>\n",
       "  </tbody>\n",
       "</table>\n",
       "</div>"
      ],
      "text/plain": [
       "    성별  성별_인코딩\n",
       "0   남성       0\n",
       "1   여성       2\n",
       "2   남성       0\n",
       "3   여성       2\n",
       "4   남성       0\n",
       "5  야상0       1"
      ]
     },
     "execution_count": 11,
     "metadata": {},
     "output_type": "execute_result"
    }
   ],
   "source": [
    "x_train"
   ]
  },
  {
   "cell_type": "code",
   "execution_count": 12,
   "id": "5556b064-6892-482e-921a-e0b5bdb84436",
   "metadata": {},
   "outputs": [
    {
     "data": {
      "text/html": [
       "<div>\n",
       "<style scoped>\n",
       "    .dataframe tbody tr th:only-of-type {\n",
       "        vertical-align: middle;\n",
       "    }\n",
       "\n",
       "    .dataframe tbody tr th {\n",
       "        vertical-align: top;\n",
       "    }\n",
       "\n",
       "    .dataframe thead th {\n",
       "        text-align: right;\n",
       "    }\n",
       "</style>\n",
       "<table border=\"1\" class=\"dataframe\">\n",
       "  <thead>\n",
       "    <tr style=\"text-align: right;\">\n",
       "      <th></th>\n",
       "      <th>성별</th>\n",
       "      <th>성별_인코딩</th>\n",
       "    </tr>\n",
       "  </thead>\n",
       "  <tbody>\n",
       "    <tr>\n",
       "      <th>0</th>\n",
       "      <td>남성</td>\n",
       "      <td>0</td>\n",
       "    </tr>\n",
       "    <tr>\n",
       "      <th>1</th>\n",
       "      <td>여성</td>\n",
       "      <td>2</td>\n",
       "    </tr>\n",
       "  </tbody>\n",
       "</table>\n",
       "</div>"
      ],
      "text/plain": [
       "   성별  성별_인코딩\n",
       "0  남성       0\n",
       "1  여성       2"
      ]
     },
     "execution_count": 12,
     "metadata": {},
     "output_type": "execute_result"
    }
   ],
   "source": [
    "x_train.head(2)"
   ]
  },
  {
   "cell_type": "code",
   "execution_count": 13,
   "id": "5b836244-14dd-4770-b9ea-d8df36e7770a",
   "metadata": {},
   "outputs": [],
   "source": [
    "from sklearn.feature_extraction.text import CountVectorizer"
   ]
  },
  {
   "cell_type": "code",
   "execution_count": 14,
   "id": "e3b8a87a-717b-4c54-ab54-df39347f5aa8",
   "metadata": {},
   "outputs": [],
   "source": [
    "corpus = [\n",
    "            '청년 인재 개발 양성 과정',\n",
    "            '인공지능 청년 양성',\n",
    "            '미래 인공지능 데이터 대한민국',\n",
    "            '데이터 원유 기술사 청년 개발'\n",
    "]"
   ]
  },
  {
   "cell_type": "code",
   "execution_count": 15,
   "id": "669cd803-be99-4bc7-818d-c4be6a88c2ff",
   "metadata": {},
   "outputs": [
    {
     "data": {
      "text/plain": [
       "['청년 인재 개발 양성 과정', '인공지능 청년 양성', '미래 인공지능 데이터 대한민국', '데이터 원유 기술사 청년 개발']"
      ]
     },
     "execution_count": 15,
     "metadata": {},
     "output_type": "execute_result"
    }
   ],
   "source": [
    "corpus"
   ]
  },
  {
   "cell_type": "code",
   "execution_count": 16,
   "id": "48d69c3e-fc9f-426e-bf74-293119306188",
   "metadata": {},
   "outputs": [
    {
     "data": {
      "text/plain": [
       "list"
      ]
     },
     "execution_count": 16,
     "metadata": {},
     "output_type": "execute_result"
    }
   ],
   "source": [
    "type(corpus)"
   ]
  },
  {
   "cell_type": "code",
   "execution_count": 17,
   "id": "6118d9a9-eb65-41af-9c14-60e8a43e562b",
   "metadata": {},
   "outputs": [],
   "source": [
    "count_vect = CountVectorizer()"
   ]
  },
  {
   "cell_type": "code",
   "execution_count": 18,
   "id": "efd958a1-bc0c-4836-bc45-bd26a7dcd0fc",
   "metadata": {},
   "outputs": [
    {
     "data": {
      "text/plain": [
       "CountVectorizer()"
      ]
     },
     "execution_count": 18,
     "metadata": {},
     "output_type": "execute_result"
    }
   ],
   "source": [
    "count_vect.fit(corpus)"
   ]
  },
  {
   "cell_type": "code",
   "execution_count": 19,
   "id": "07b23d31-921d-4646-9d88-360f6f0db2d8",
   "metadata": {},
   "outputs": [
    {
     "data": {
      "text/plain": [
       "{'청년': 10,\n",
       " '인재': 9,\n",
       " '개발': 0,\n",
       " '양성': 6,\n",
       " '과정': 1,\n",
       " '인공지능': 8,\n",
       " '미래': 5,\n",
       " '데이터': 4,\n",
       " '대한민국': 3,\n",
       " '원유': 7,\n",
       " '기술사': 2}"
      ]
     },
     "execution_count": 19,
     "metadata": {},
     "output_type": "execute_result"
    }
   ],
   "source": [
    "count_vect.vocabulary_"
   ]
  },
  {
   "cell_type": "code",
   "execution_count": 20,
   "id": "4942c567-2738-4430-b33c-1c2a8458f00f",
   "metadata": {},
   "outputs": [
    {
     "data": {
      "text/plain": [
       "array([[1, 1, 0, 0, 0, 0, 1, 0, 0, 1, 1],\n",
       "       [0, 0, 0, 0, 0, 0, 1, 0, 1, 0, 1],\n",
       "       [0, 0, 0, 1, 1, 1, 0, 0, 1, 0, 0],\n",
       "       [1, 0, 1, 0, 1, 0, 0, 1, 0, 0, 1]], dtype=int64)"
      ]
     },
     "execution_count": 20,
     "metadata": {},
     "output_type": "execute_result"
    }
   ],
   "source": [
    "count_vect.transform(corpus).toarray()"
   ]
  },
  {
   "cell_type": "code",
   "execution_count": 21,
   "id": "d0cee054-cbde-4bc3-a222-c5ec6f31f17f",
   "metadata": {},
   "outputs": [],
   "source": [
    "features = count_vect.transform(corpus)"
   ]
  },
  {
   "cell_type": "code",
   "execution_count": 22,
   "id": "e873e538-3cfd-4967-87fd-8eaedb08242a",
   "metadata": {},
   "outputs": [
    {
     "data": {
      "text/plain": [
       "<4x11 sparse matrix of type '<class 'numpy.int64'>'\n",
       "\twith 17 stored elements in Compressed Sparse Row format>"
      ]
     },
     "execution_count": 22,
     "metadata": {},
     "output_type": "execute_result"
    }
   ],
   "source": [
    "features"
   ]
  },
  {
   "cell_type": "code",
   "execution_count": 23,
   "id": "d531f999-3c21-4424-b06a-37c94a78da46",
   "metadata": {},
   "outputs": [],
   "source": [
    "vocab = count_vect.get_feature_names()"
   ]
  },
  {
   "cell_type": "code",
   "execution_count": 24,
   "id": "1431fc4c-fb43-44ff-82ea-fdf1cb471a86",
   "metadata": {},
   "outputs": [
    {
     "data": {
      "text/plain": [
       "['개발', '과정', '기술사', '대한민국', '데이터', '미래', '양성', '원유', '인공지능', '인재', '청년']"
      ]
     },
     "execution_count": 24,
     "metadata": {},
     "output_type": "execute_result"
    }
   ],
   "source": [
    "vocab"
   ]
  },
  {
   "cell_type": "code",
   "execution_count": 25,
   "id": "d1eed9fc-e5bc-4418-8a47-4d504d6db9df",
   "metadata": {},
   "outputs": [
    {
     "data": {
      "text/html": [
       "<div>\n",
       "<style scoped>\n",
       "    .dataframe tbody tr th:only-of-type {\n",
       "        vertical-align: middle;\n",
       "    }\n",
       "\n",
       "    .dataframe tbody tr th {\n",
       "        vertical-align: top;\n",
       "    }\n",
       "\n",
       "    .dataframe thead th {\n",
       "        text-align: right;\n",
       "    }\n",
       "</style>\n",
       "<table border=\"1\" class=\"dataframe\">\n",
       "  <thead>\n",
       "    <tr style=\"text-align: right;\">\n",
       "      <th></th>\n",
       "      <th>개발</th>\n",
       "      <th>과정</th>\n",
       "      <th>기술사</th>\n",
       "      <th>대한민국</th>\n",
       "      <th>데이터</th>\n",
       "      <th>미래</th>\n",
       "      <th>양성</th>\n",
       "      <th>원유</th>\n",
       "      <th>인공지능</th>\n",
       "      <th>인재</th>\n",
       "      <th>청년</th>\n",
       "    </tr>\n",
       "  </thead>\n",
       "  <tbody>\n",
       "    <tr>\n",
       "      <th>0</th>\n",
       "      <td>1</td>\n",
       "      <td>1</td>\n",
       "      <td>0</td>\n",
       "      <td>0</td>\n",
       "      <td>0</td>\n",
       "      <td>0</td>\n",
       "      <td>1</td>\n",
       "      <td>0</td>\n",
       "      <td>0</td>\n",
       "      <td>1</td>\n",
       "      <td>1</td>\n",
       "    </tr>\n",
       "    <tr>\n",
       "      <th>1</th>\n",
       "      <td>0</td>\n",
       "      <td>0</td>\n",
       "      <td>0</td>\n",
       "      <td>0</td>\n",
       "      <td>0</td>\n",
       "      <td>0</td>\n",
       "      <td>1</td>\n",
       "      <td>0</td>\n",
       "      <td>1</td>\n",
       "      <td>0</td>\n",
       "      <td>1</td>\n",
       "    </tr>\n",
       "    <tr>\n",
       "      <th>2</th>\n",
       "      <td>0</td>\n",
       "      <td>0</td>\n",
       "      <td>0</td>\n",
       "      <td>1</td>\n",
       "      <td>1</td>\n",
       "      <td>1</td>\n",
       "      <td>0</td>\n",
       "      <td>0</td>\n",
       "      <td>1</td>\n",
       "      <td>0</td>\n",
       "      <td>0</td>\n",
       "    </tr>\n",
       "    <tr>\n",
       "      <th>3</th>\n",
       "      <td>1</td>\n",
       "      <td>0</td>\n",
       "      <td>1</td>\n",
       "      <td>0</td>\n",
       "      <td>1</td>\n",
       "      <td>0</td>\n",
       "      <td>0</td>\n",
       "      <td>1</td>\n",
       "      <td>0</td>\n",
       "      <td>0</td>\n",
       "      <td>1</td>\n",
       "    </tr>\n",
       "  </tbody>\n",
       "</table>\n",
       "</div>"
      ],
      "text/plain": [
       "   개발  과정  기술사  대한민국  데이터  미래  양성  원유  인공지능  인재  청년\n",
       "0   1   1    0     0    0   0   1   0     0   1   1\n",
       "1   0   0    0     0    0   0   1   0     1   0   1\n",
       "2   0   0    0     1    1   1   0   0     1   0   0\n",
       "3   1   0    1     0    1   0   0   1     0   0   1"
      ]
     },
     "execution_count": 25,
     "metadata": {},
     "output_type": "execute_result"
    }
   ],
   "source": [
    "DTM = pd.DataFrame(features.toarray(), columns = vocab).head()\n",
    "DTM"
   ]
  },
  {
   "cell_type": "code",
   "execution_count": 29,
   "id": "48196d6f-783e-47e6-8635-6901456f8db7",
   "metadata": {},
   "outputs": [
    {
     "data": {
      "text/plain": [
       "['청년 인재 개발 양성 과정', '인공지능 청년 양성', '미래 인공지능 데이터 대한민국', '데이터 원유 기술사 청년 개발']"
      ]
     },
     "execution_count": 29,
     "metadata": {},
     "output_type": "execute_result"
    }
   ],
   "source": [
    "from sklearn.feature_extraction.text import TfidfVectorizer\n",
    "corpus"
   ]
  },
  {
   "cell_type": "code",
   "execution_count": 31,
   "id": "1023c57f-0626-49db-8aa6-e0f15b8d6a43",
   "metadata": {},
   "outputs": [],
   "source": [
    "tfid = TfidfVectorizer()"
   ]
  },
  {
   "cell_type": "code",
   "execution_count": 32,
   "id": "d0ef70f4-7349-4f9b-9bb7-09250c039555",
   "metadata": {},
   "outputs": [
    {
     "data": {
      "text/plain": [
       "TfidfVectorizer()"
      ]
     },
     "execution_count": 32,
     "metadata": {},
     "output_type": "execute_result"
    }
   ],
   "source": [
    "tfid.fit(corpus)"
   ]
  },
  {
   "cell_type": "code",
   "execution_count": 33,
   "id": "f2179b9d-2557-42ea-b265-822ff5ca780a",
   "metadata": {},
   "outputs": [
    {
     "data": {
      "text/plain": [
       "{'청년': 10,\n",
       " '인재': 9,\n",
       " '개발': 0,\n",
       " '양성': 6,\n",
       " '과정': 1,\n",
       " '인공지능': 8,\n",
       " '미래': 5,\n",
       " '데이터': 4,\n",
       " '대한민국': 3,\n",
       " '원유': 7,\n",
       " '기술사': 2}"
      ]
     },
     "execution_count": 33,
     "metadata": {},
     "output_type": "execute_result"
    }
   ],
   "source": [
    "tfid.vocabulary_"
   ]
  },
  {
   "cell_type": "code",
   "execution_count": 34,
   "id": "527dfc79-1976-4106-915d-5910012b269d",
   "metadata": {},
   "outputs": [
    {
     "data": {
      "text/plain": [
       "array([[0.41263976, 0.52338122, 0.        , 0.        , 0.        ,\n",
       "        0.        , 0.41263976, 0.        , 0.        , 0.52338122,\n",
       "        0.33406745],\n",
       "       [0.        , 0.        , 0.        , 0.        , 0.        ,\n",
       "        0.        , 0.61366674, 0.        , 0.61366674, 0.        ,\n",
       "        0.49681612],\n",
       "       [0.        , 0.        , 0.        , 0.55528266, 0.43779123,\n",
       "        0.55528266, 0.        , 0.        , 0.43779123, 0.        ,\n",
       "        0.        ],\n",
       "       [0.41263976, 0.        , 0.52338122, 0.        , 0.41263976,\n",
       "        0.        , 0.        , 0.52338122, 0.        , 0.        ,\n",
       "        0.33406745]])"
      ]
     },
     "execution_count": 34,
     "metadata": {},
     "output_type": "execute_result"
    }
   ],
   "source": [
    "tfid.transform(corpus).toarray()"
   ]
  },
  {
   "cell_type": "code",
   "execution_count": 35,
   "id": "3b906f94-f21a-4e50-9bed-bfe997ee494c",
   "metadata": {},
   "outputs": [],
   "source": [
    "features_idf = tfid.transform(corpus)"
   ]
  },
  {
   "cell_type": "code",
   "execution_count": 36,
   "id": "295fee22-0c59-4df5-94b3-058bf37b46f2",
   "metadata": {},
   "outputs": [
    {
     "data": {
      "text/plain": [
       "<4x11 sparse matrix of type '<class 'numpy.float64'>'\n",
       "\twith 17 stored elements in Compressed Sparse Row format>"
      ]
     },
     "execution_count": 36,
     "metadata": {},
     "output_type": "execute_result"
    }
   ],
   "source": [
    "features_idf"
   ]
  },
  {
   "cell_type": "code",
   "execution_count": 46,
   "id": "bebb75ed-e817-46fa-9d89-b057e5fc4dd4",
   "metadata": {},
   "outputs": [
    {
     "data": {
      "text/plain": [
       "['개발', '과정', '기술사', '대한민국', '데이터', '미래', '양성', '원유', '인공지능', '인재', '청년']"
      ]
     },
     "execution_count": 46,
     "metadata": {},
     "output_type": "execute_result"
    }
   ],
   "source": [
    "vocab_idf = count_vect.get_feature_names()\n",
    "vocab_idf"
   ]
  },
  {
   "cell_type": "code",
   "execution_count": 47,
   "id": "e676f6fb-a42e-4fb4-bbc4-d37d197a737f",
   "metadata": {},
   "outputs": [
    {
     "data": {
      "text/html": [
       "<div>\n",
       "<style scoped>\n",
       "    .dataframe tbody tr th:only-of-type {\n",
       "        vertical-align: middle;\n",
       "    }\n",
       "\n",
       "    .dataframe tbody tr th {\n",
       "        vertical-align: top;\n",
       "    }\n",
       "\n",
       "    .dataframe thead th {\n",
       "        text-align: right;\n",
       "    }\n",
       "</style>\n",
       "<table border=\"1\" class=\"dataframe\">\n",
       "  <thead>\n",
       "    <tr style=\"text-align: right;\">\n",
       "      <th></th>\n",
       "      <th>개발</th>\n",
       "      <th>과정</th>\n",
       "      <th>기술사</th>\n",
       "      <th>대한민국</th>\n",
       "      <th>데이터</th>\n",
       "      <th>미래</th>\n",
       "      <th>양성</th>\n",
       "      <th>원유</th>\n",
       "      <th>인공지능</th>\n",
       "      <th>인재</th>\n",
       "      <th>청년</th>\n",
       "    </tr>\n",
       "  </thead>\n",
       "  <tbody>\n",
       "    <tr>\n",
       "      <th>0</th>\n",
       "      <td>0.41264</td>\n",
       "      <td>0.523381</td>\n",
       "      <td>0.000000</td>\n",
       "      <td>0.000000</td>\n",
       "      <td>0.000000</td>\n",
       "      <td>0.000000</td>\n",
       "      <td>0.412640</td>\n",
       "      <td>0.000000</td>\n",
       "      <td>0.000000</td>\n",
       "      <td>0.523381</td>\n",
       "      <td>0.334067</td>\n",
       "    </tr>\n",
       "    <tr>\n",
       "      <th>1</th>\n",
       "      <td>0.00000</td>\n",
       "      <td>0.000000</td>\n",
       "      <td>0.000000</td>\n",
       "      <td>0.000000</td>\n",
       "      <td>0.000000</td>\n",
       "      <td>0.000000</td>\n",
       "      <td>0.613667</td>\n",
       "      <td>0.000000</td>\n",
       "      <td>0.613667</td>\n",
       "      <td>0.000000</td>\n",
       "      <td>0.496816</td>\n",
       "    </tr>\n",
       "    <tr>\n",
       "      <th>2</th>\n",
       "      <td>0.00000</td>\n",
       "      <td>0.000000</td>\n",
       "      <td>0.000000</td>\n",
       "      <td>0.555283</td>\n",
       "      <td>0.437791</td>\n",
       "      <td>0.555283</td>\n",
       "      <td>0.000000</td>\n",
       "      <td>0.000000</td>\n",
       "      <td>0.437791</td>\n",
       "      <td>0.000000</td>\n",
       "      <td>0.000000</td>\n",
       "    </tr>\n",
       "    <tr>\n",
       "      <th>3</th>\n",
       "      <td>0.41264</td>\n",
       "      <td>0.000000</td>\n",
       "      <td>0.523381</td>\n",
       "      <td>0.000000</td>\n",
       "      <td>0.412640</td>\n",
       "      <td>0.000000</td>\n",
       "      <td>0.000000</td>\n",
       "      <td>0.523381</td>\n",
       "      <td>0.000000</td>\n",
       "      <td>0.000000</td>\n",
       "      <td>0.334067</td>\n",
       "    </tr>\n",
       "  </tbody>\n",
       "</table>\n",
       "</div>"
      ],
      "text/plain": [
       "        개발        과정       기술사      대한민국       데이터        미래        양성  \\\n",
       "0  0.41264  0.523381  0.000000  0.000000  0.000000  0.000000  0.412640   \n",
       "1  0.00000  0.000000  0.000000  0.000000  0.000000  0.000000  0.613667   \n",
       "2  0.00000  0.000000  0.000000  0.555283  0.437791  0.555283  0.000000   \n",
       "3  0.41264  0.000000  0.523381  0.000000  0.412640  0.000000  0.000000   \n",
       "\n",
       "         원유      인공지능        인재        청년  \n",
       "0  0.000000  0.000000  0.523381  0.334067  \n",
       "1  0.000000  0.613667  0.000000  0.496816  \n",
       "2  0.000000  0.437791  0.000000  0.000000  \n",
       "3  0.523381  0.000000  0.000000  0.334067  "
      ]
     },
     "execution_count": 47,
     "metadata": {},
     "output_type": "execute_result"
    }
   ],
   "source": [
    "DTM_idf = pd.DataFrame(features_idf.toarray(), columns = vocab_idf).head()\n",
    "DTM_idf"
   ]
  },
  {
   "cell_type": "code",
   "execution_count": null,
   "id": "3e78bbdb-396a-4ff8-8584-57a1493b0500",
   "metadata": {},
   "outputs": [],
   "source": []
  }
 ],
 "metadata": {
  "kernelspec": {
   "display_name": "Python 3",
   "language": "python",
   "name": "python3"
  },
  "language_info": {
   "codemirror_mode": {
    "name": "ipython",
    "version": 3
   },
   "file_extension": ".py",
   "mimetype": "text/x-python",
   "name": "python",
   "nbconvert_exporter": "python",
   "pygments_lexer": "ipython3",
   "version": "3.8.8"
  }
 },
 "nbformat": 4,
 "nbformat_minor": 5
}
