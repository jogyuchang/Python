{
 "cells": [
  {
   "cell_type": "code",
   "execution_count": 1,
   "metadata": {},
   "outputs": [
    {
     "name": "stdout",
     "output_type": "stream",
     "text": [
      "홍길동\n"
     ]
    },
    {
     "data": {
      "text/plain": [
       "'홍길동'"
      ]
     },
     "execution_count": 1,
     "metadata": {},
     "output_type": "execute_result"
    }
   ],
   "source": [
    "input()"
   ]
  },
  {
   "cell_type": "markdown",
   "metadata": {},
   "source": [
    "# 2.6.1 시스템 입력"
   ]
  },
  {
   "cell_type": "markdown",
   "metadata": {},
   "source": [
    "<div class=\"alert alert-success\">\n",
    "[문제]\n",
    "사용자로부터 이름을 입력 받고, 이름과 함께 인사말을 출력하세요.  \n",
    "    \n",
    "    \n",
    "예:\n",
    "- 이름을 입력하세요: 홍길동  \n",
    "- 홍길동님, 안녕하세요  \n",
    "\n",
    "</div>"
   ]
  },
  {
   "cell_type": "code",
   "execution_count": 2,
   "metadata": {},
   "outputs": [
    {
     "name": "stdout",
     "output_type": "stream",
     "text": [
      "이름을 입력하세요:아이리포\n",
      "아이리포님, 안녕하세요\n"
     ]
    }
   ],
   "source": [
    "name = input(\"이름을 입력하세요:\")\n",
    "print(name + \"님, 안녕하세요\")"
   ]
  },
  {
   "cell_type": "markdown",
   "metadata": {},
   "source": [
    "<div class=\"alert alert-success\">\n",
    "[문제]\n",
    "사용자로부터 키를 입력 받아서 권장 체중을 출력하는 프로그램을 작성하세요.\n",
    "    \n",
    "권장 체중은 다음과 같이 계산합니다.\n",
    "\n",
    "    권장 체중 = (키 – 100) * 0.9\n",
    "\n",
    "\n",
    "</div>"
   ]
  },
  {
   "cell_type": "code",
   "execution_count": 3,
   "metadata": {},
   "outputs": [
    {
     "name": "stdout",
     "output_type": "stream",
     "text": [
      "키를 입력하세요180\n"
     ]
    },
    {
     "ename": "TypeError",
     "evalue": "unsupported operand type(s) for -: 'str' and 'int'",
     "output_type": "error",
     "traceback": [
      "\u001b[1;31m---------------------------------------------------------------------------\u001b[0m",
      "\u001b[1;31mTypeError\u001b[0m                                 Traceback (most recent call last)",
      "\u001b[1;32m<ipython-input-3-bd7cef80d355>\u001b[0m in \u001b[0;36m<module>\u001b[1;34m\u001b[0m\n\u001b[0;32m      1\u001b[0m \u001b[0mheight\u001b[0m \u001b[1;33m=\u001b[0m \u001b[0minput\u001b[0m\u001b[1;33m(\u001b[0m\u001b[1;34m\"키를 입력하세요\"\u001b[0m\u001b[1;33m)\u001b[0m\u001b[1;33m\u001b[0m\u001b[1;33m\u001b[0m\u001b[0m\n\u001b[1;32m----> 2\u001b[1;33m \u001b[0mweight\u001b[0m \u001b[1;33m=\u001b[0m \u001b[1;33m(\u001b[0m\u001b[0mheight\u001b[0m \u001b[1;33m-\u001b[0m \u001b[1;36m100\u001b[0m\u001b[1;33m)\u001b[0m \u001b[1;33m*\u001b[0m \u001b[1;36m0.9\u001b[0m\u001b[1;33m\u001b[0m\u001b[1;33m\u001b[0m\u001b[0m\n\u001b[0m\u001b[0;32m      3\u001b[0m \u001b[1;33m\u001b[0m\u001b[0m\n\u001b[0;32m      4\u001b[0m \u001b[0mprint\u001b[0m\u001b[1;33m(\u001b[0m\u001b[1;34m\"권장 체중은 \"\u001b[0m \u001b[1;33m+\u001b[0m \u001b[0mweight\u001b[0m \u001b[1;33m+\u001b[0m \u001b[1;34m\"kg 입니다\"\u001b[0m\u001b[1;33m)\u001b[0m\u001b[1;33m\u001b[0m\u001b[1;33m\u001b[0m\u001b[0m\n",
      "\u001b[1;31mTypeError\u001b[0m: unsupported operand type(s) for -: 'str' and 'int'"
     ]
    }
   ],
   "source": [
    "height = input(\"키를 입력하세요\")\n",
    "weight = (height - 100) * 0.9\n",
    "\n",
    "print(\"권장 체중은 \" + weight + \"kg 입니다\")"
   ]
  },
  {
   "cell_type": "code",
   "execution_count": 4,
   "metadata": {},
   "outputs": [
    {
     "name": "stdout",
     "output_type": "stream",
     "text": [
      "키를 입력하세요180\n"
     ]
    },
    {
     "ename": "TypeError",
     "evalue": "can only concatenate str (not \"float\") to str",
     "output_type": "error",
     "traceback": [
      "\u001b[1;31m---------------------------------------------------------------------------\u001b[0m",
      "\u001b[1;31mTypeError\u001b[0m                                 Traceback (most recent call last)",
      "\u001b[1;32m<ipython-input-4-df36009ecc42>\u001b[0m in \u001b[0;36m<module>\u001b[1;34m\u001b[0m\n\u001b[0;32m      2\u001b[0m \u001b[0mweight\u001b[0m \u001b[1;33m=\u001b[0m \u001b[1;33m(\u001b[0m\u001b[0mfloat\u001b[0m\u001b[1;33m(\u001b[0m\u001b[0mheight\u001b[0m\u001b[1;33m)\u001b[0m \u001b[1;33m-\u001b[0m \u001b[1;36m100\u001b[0m\u001b[1;33m)\u001b[0m \u001b[1;33m*\u001b[0m \u001b[1;36m0.9\u001b[0m\u001b[1;33m\u001b[0m\u001b[1;33m\u001b[0m\u001b[0m\n\u001b[0;32m      3\u001b[0m \u001b[1;33m\u001b[0m\u001b[0m\n\u001b[1;32m----> 4\u001b[1;33m \u001b[0mprint\u001b[0m\u001b[1;33m(\u001b[0m\u001b[1;34m\"권장 체중은 \"\u001b[0m \u001b[1;33m+\u001b[0m \u001b[0mweight\u001b[0m \u001b[1;33m+\u001b[0m \u001b[1;34m\"kg 입니다.\"\u001b[0m\u001b[1;33m)\u001b[0m\u001b[1;33m\u001b[0m\u001b[1;33m\u001b[0m\u001b[0m\n\u001b[0m",
      "\u001b[1;31mTypeError\u001b[0m: can only concatenate str (not \"float\") to str"
     ]
    }
   ],
   "source": [
    "height = input(\"키를 입력하세요\")\n",
    "weight = (float(height) - 100) * 0.9\n",
    "\n",
    "print(\"권장 체중은 \" + weight + \"kg 입니다.\")"
   ]
  },
  {
   "cell_type": "code",
   "execution_count": 5,
   "metadata": {},
   "outputs": [
    {
     "name": "stdout",
     "output_type": "stream",
     "text": [
      "키를 입력하세요180\n",
      "권장 체중은 72.0kg 입니다.\n"
     ]
    }
   ],
   "source": [
    "height = input(\"키를 입력하세요\")\n",
    "weight = (float(height) - 100) * 0.9\n",
    "\n",
    "print(\"권장 체중은 \" + str(weight) + \"kg 입니다.\")"
   ]
  },
  {
   "cell_type": "markdown",
   "metadata": {},
   "source": [
    "# 2.6.2 시스템 출력"
   ]
  },
  {
   "cell_type": "code",
   "execution_count": 6,
   "metadata": {},
   "outputs": [
    {
     "name": "stdout",
     "output_type": "stream",
     "text": [
      "apple peach mango\n"
     ]
    }
   ],
   "source": [
    "print(\"apple\", \"peach\", \"mango\")"
   ]
  },
  {
   "cell_type": "code",
   "execution_count": 7,
   "metadata": {},
   "outputs": [
    {
     "name": "stdout",
     "output_type": "stream",
     "text": [
      "apple,peach,mango\n"
     ]
    }
   ],
   "source": [
    "print(\"apple\", \"peach\", \"mango\", sep =\",\")"
   ]
  },
  {
   "cell_type": "code",
   "execution_count": 8,
   "metadata": {},
   "outputs": [
    {
     "name": "stdout",
     "output_type": "stream",
     "text": [
      "원숭이 엉덩이는 빨개 \n",
      "빨가면 사과\n"
     ]
    }
   ],
   "source": [
    "print(\"원숭이 엉덩이는 빨개 \")\n",
    "print(\"빨가면 사과\")"
   ]
  },
  {
   "cell_type": "code",
   "execution_count": 9,
   "metadata": {},
   "outputs": [
    {
     "name": "stdout",
     "output_type": "stream",
     "text": [
      "원숭이 엉덩이는 빨개 빨가면 사과\n"
     ]
    }
   ],
   "source": [
    "print(\"원숭이 엉덩이는 빨개 \", end=\"\")\n",
    "print(\"빨가면 사과\")"
   ]
  },
  {
   "cell_type": "code",
   "execution_count": 10,
   "metadata": {},
   "outputs": [
    {
     "name": "stdout",
     "output_type": "stream",
     "text": [
      "나는 빵을 먹고싶다\n"
     ]
    }
   ],
   "source": [
    "print(\"나는\" + \" 빵을 \" + \"먹고싶다\")"
   ]
  },
  {
   "cell_type": "code",
   "execution_count": 11,
   "metadata": {},
   "outputs": [
    {
     "name": "stdout",
     "output_type": "stream",
     "text": [
      "산토끼 토끼야\n",
      "어디를 가느냐\n",
      "깡총깡총 뛰어서\n",
      "어디를 가느냐\n"
     ]
    }
   ],
   "source": [
    "print(\"산토끼 토끼야\\n어디를 가느냐\\n깡총깡총 뛰어서\\n어디를 가느냐\")"
   ]
  },
  {
   "cell_type": "code",
   "execution_count": 12,
   "metadata": {},
   "outputs": [
    {
     "name": "stdout",
     "output_type": "stream",
     "text": [
      "나는 치킨을 먹고 싶다\n"
     ]
    }
   ],
   "source": [
    "food = \"치킨\"\n",
    "text = \"나는 {}을 먹고 싶다\"\n",
    "print(text.format(food))"
   ]
  },
  {
   "cell_type": "code",
   "execution_count": 13,
   "metadata": {},
   "outputs": [
    {
     "name": "stdout",
     "output_type": "stream",
     "text": [
      "나는 치킨을 먹고 싶다\n"
     ]
    }
   ],
   "source": [
    "print(\"나는 {}을 먹고 싶다\".format(\"치킨\"))"
   ]
  },
  {
   "cell_type": "code",
   "execution_count": 14,
   "metadata": {},
   "outputs": [
    {
     "name": "stdout",
     "output_type": "stream",
     "text": [
      "나는 피자, 치킨을 먹고 싶다\n"
     ]
    }
   ],
   "source": [
    "food1 = \"피자\"\n",
    "food2 = \"치킨\"\n",
    "text = \"나는 {}, {}을 먹고 싶다\"\n",
    "print(text.format(\"피자\", \"치킨\"))"
   ]
  },
  {
   "cell_type": "code",
   "execution_count": 15,
   "metadata": {},
   "outputs": [
    {
     "name": "stdout",
     "output_type": "stream",
     "text": [
      "나는 피자, 치킨을 먹고 싶다. 우리집엔 치킨이 배달되지 않아 슬프다.\n"
     ]
    }
   ],
   "source": [
    "print(\"나는 {0}, {1}을 먹고 싶다. 우리집엔 {1}이 배달되지 않아 슬프다.\".format(\"피자\", \"치킨\"))"
   ]
  },
  {
   "cell_type": "code",
   "execution_count": 16,
   "metadata": {},
   "outputs": [
    {
     "name": "stdout",
     "output_type": "stream",
     "text": [
      "홍길동님, 반갑습니다. 적립금은 500원 입니다..\n"
     ]
    }
   ],
   "source": [
    "text = \"{name}님, 반갑습니다. 적립금은 {money}원 입니다..\"\n",
    "print(text.format(name = \"홍길동\", money = 500))"
   ]
  },
  {
   "cell_type": "markdown",
   "metadata": {},
   "source": [
    "--------\n",
    "<div class=\"alert alert-warning\">\n",
    "[Tip]문자열에 %s 를 작성하여, 치환할 문자를 지정\n",
    "</div>"
   ]
  },
  {
   "cell_type": "code",
   "execution_count": 17,
   "metadata": {},
   "outputs": [
    {
     "name": "stdout",
     "output_type": "stream",
     "text": [
      "나는 치킨을 먹고 싶다.\n"
     ]
    }
   ],
   "source": [
    "food = \"치킨\"\n",
    "print(\"나는 %s을 먹고 싶다.\" %food)"
   ]
  },
  {
   "cell_type": "markdown",
   "metadata": {},
   "source": [
    "----------"
   ]
  },
  {
   "cell_type": "code",
   "execution_count": 18,
   "metadata": {},
   "outputs": [
    {
     "name": "stdout",
     "output_type": "stream",
     "text": [
      "95.12% 확신합니다.\n"
     ]
    }
   ],
   "source": [
    "print(\"{:.2f}% 확신합니다.\".format(95.1234567))"
   ]
  },
  {
   "cell_type": "code",
   "execution_count": 19,
   "metadata": {},
   "outputs": [
    {
     "name": "stdout",
     "output_type": "stream",
     "text": [
      "한 달 휴대폰 요금은 100,000원 입니다.\n"
     ]
    }
   ],
   "source": [
    "print(\"한 달 휴대폰 요금은 {:,}원 입니다.\".format(100000))"
   ]
  },
  {
   "cell_type": "markdown",
   "metadata": {},
   "source": [
    "# 2.6.3 파일 입출력"
   ]
  },
  {
   "cell_type": "code",
   "execution_count": 20,
   "metadata": {},
   "outputs": [],
   "source": [
    "f = open(\"abc.txt\", \"w\") # 쓰기모드로 파일 열기\n",
    "f.write(\"A B C D E F G \")\n",
    "f.close()"
   ]
  },
  {
   "cell_type": "code",
   "execution_count": 21,
   "metadata": {},
   "outputs": [
    {
     "name": "stdout",
     "output_type": "stream",
     "text": [
      "A B C D E F G \n"
     ]
    }
   ],
   "source": [
    "f = open(\"abc.txt\", \"r\")\n",
    "print(f.read())\n",
    "f.close()"
   ]
  },
  {
   "cell_type": "code",
   "execution_count": 22,
   "metadata": {},
   "outputs": [],
   "source": [
    "f = open(\"abc.txt\", \"w\")\n",
    "f.write(\"a b c d e f g \")\n",
    "f.close()"
   ]
  },
  {
   "cell_type": "code",
   "execution_count": 23,
   "metadata": {},
   "outputs": [
    {
     "name": "stdout",
     "output_type": "stream",
     "text": [
      "a b c d e f g \n"
     ]
    }
   ],
   "source": [
    "f = open(\"abc.txt\", \"r\")\n",
    "print(f.read())\n",
    "f.close()"
   ]
  },
  {
   "cell_type": "code",
   "execution_count": 24,
   "metadata": {},
   "outputs": [],
   "source": [
    "# 추가(append)모드로 파일 열기\n",
    "f = open(\"abc.txt\", \"a\")\n",
    "f.write(\"H I J K L M N O P Q R S T U V W X Y Z\")\n",
    "f.close()"
   ]
  },
  {
   "cell_type": "code",
   "execution_count": 25,
   "metadata": {},
   "outputs": [
    {
     "name": "stdout",
     "output_type": "stream",
     "text": [
      "a b c d e f g H I J K L M N O P Q R S T U V W X Y Z\n"
     ]
    }
   ],
   "source": [
    "# 읽기모드로 파일 열기\n",
    "f = open(\"abc.txt\", 'r')\n",
    "lines = f.readlines()\n",
    "for line in lines:\n",
    "    print(line)\n",
    "f.close()"
   ]
  },
  {
   "cell_type": "code",
   "execution_count": 26,
   "metadata": {},
   "outputs": [
    {
     "name": "stdout",
     "output_type": "stream",
     "text": [
      "2020년 3월 12일 금요일\n",
      "날씨 맑음\n"
     ]
    }
   ],
   "source": [
    "with open(\"일기.txt\", \"w\") as f:\n",
    "    f.write(\"2020년 3월 12일 금요일\\n\")\n",
    "\n",
    "with open(\"일기.txt\", \"a\") as f:\n",
    "    f.write(\"날씨 맑음\")\n",
    "\n",
    "with open(\"일기.txt\", \"r\") as f:\n",
    "    print(f.read())"
   ]
  },
  {
   "cell_type": "markdown",
   "metadata": {},
   "source": [
    "--------\n",
    "<div class=\"alert alert-warning\">\n",
    "[Tip]파일 삭제\n",
    "</div>"
   ]
  },
  {
   "cell_type": "code",
   "execution_count": 27,
   "metadata": {},
   "outputs": [
    {
     "name": "stdout",
     "output_type": "stream",
     "text": [
      "abc.txt파일을 삭제하였습니다.\n"
     ]
    }
   ],
   "source": [
    "import os\n",
    "\n",
    "fileName = \"abc.txt\"\n",
    "if os.path.exists(fileName):\n",
    "    os.remove(fileName)\n",
    "    print(\"{}파일을 삭제하였습니다.\".format(fileName))\n",
    "else:\n",
    "    print(\"{}파일이 존재하지 않습니다.\".format(fileName))"
   ]
  },
  {
   "cell_type": "markdown",
   "metadata": {},
   "source": [
    "-----------"
   ]
  }
 ],
 "metadata": {
  "kernelspec": {
   "display_name": "Python 3",
   "language": "python",
   "name": "python3"
  },
  "language_info": {
   "codemirror_mode": {
    "name": "ipython",
    "version": 3
   },
   "file_extension": ".py",
   "mimetype": "text/x-python",
   "name": "python",
   "nbconvert_exporter": "python",
   "pygments_lexer": "ipython3",
   "version": "3.8.5"
  },
  "toc": {
   "base_numbering": 1,
   "nav_menu": {},
   "number_sections": false,
   "sideBar": true,
   "skip_h1_title": false,
   "title_cell": "Table of Contents",
   "title_sidebar": "Contents",
   "toc_cell": false,
   "toc_position": {},
   "toc_section_display": true,
   "toc_window_display": false
  }
 },
 "nbformat": 4,
 "nbformat_minor": 4
}
