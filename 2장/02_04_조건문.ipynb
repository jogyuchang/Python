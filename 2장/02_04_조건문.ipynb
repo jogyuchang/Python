{
 "cells": [
  {
   "cell_type": "markdown",
   "metadata": {},
   "source": [
    "# 2.4.2 if"
   ]
  },
  {
   "cell_type": "markdown",
   "metadata": {},
   "source": [
    "<div class=\"alert alert-success\">\n",
    "[문제]기온이 0ºC보다 높으면 ‘아이스 아메리카노’를 출력하는 프로그램을 만들어 보세요.\n",
    "</div>"
   ]
  },
  {
   "cell_type": "code",
   "execution_count": 1,
   "metadata": {},
   "outputs": [
    {
     "name": "stdout",
     "output_type": "stream",
     "text": [
      "아이스 아메리카노\n"
     ]
    }
   ],
   "source": [
    "today_temp = 30\n",
    "\n",
    "if today_temp > 0:\n",
    "    print(\"아이스 아메리카노\")"
   ]
  },
  {
   "cell_type": "markdown",
   "metadata": {},
   "source": [
    "---------\n",
    "<div class=\"alert alert-warning\">\n",
    "[Tip] 들여쓰기의 중요성\n",
    "</div>"
   ]
  },
  {
   "cell_type": "code",
   "execution_count": 2,
   "metadata": {},
   "outputs": [
    {
     "ename": "IndentationError",
     "evalue": "expected an indented block (<ipython-input-2-c8a3b76ff21a>, line 4)",
     "output_type": "error",
     "traceback": [
      "\u001b[1;36m  File \u001b[1;32m\"<ipython-input-2-c8a3b76ff21a>\"\u001b[1;36m, line \u001b[1;32m4\u001b[0m\n\u001b[1;33m    print(\"아이스 아메리카노\")\u001b[0m\n\u001b[1;37m    ^\u001b[0m\n\u001b[1;31mIndentationError\u001b[0m\u001b[1;31m:\u001b[0m expected an indented block\n"
     ]
    }
   ],
   "source": [
    "today_temp = 30\n",
    "\n",
    "if today_temp > 0:\n",
    "print(\"아이스 아메리카노\")"
   ]
  },
  {
   "cell_type": "markdown",
   "metadata": {},
   "source": [
    "-------"
   ]
  },
  {
   "cell_type": "markdown",
   "metadata": {},
   "source": [
    "# 2.4.3 else"
   ]
  },
  {
   "cell_type": "markdown",
   "metadata": {},
   "source": [
    "<div class=\"alert alert-success\">\n",
    "[문제]기온이 0ºC보다 높으면 ‘아이스 아메리카노’를 출력하고, 그렇지 않은 경우에는 ‘따뜻한 아메리카노’를 출력하는 프로그램을 만들어 보세요.\n",
    "</div>"
   ]
  },
  {
   "cell_type": "code",
   "execution_count": 3,
   "metadata": {},
   "outputs": [
    {
     "name": "stdout",
     "output_type": "stream",
     "text": [
      "아이스 아메리카노\n"
     ]
    }
   ],
   "source": [
    "today_temp = 30\n",
    "\n",
    "if today_temp > 0:\n",
    "    print(\"아이스 아메리카노\")\n",
    "else:\n",
    "    print(\"따뜻한 아메리카노\")"
   ]
  },
  {
   "cell_type": "markdown",
   "metadata": {},
   "source": [
    "# 2.4.4 elif"
   ]
  },
  {
   "cell_type": "markdown",
   "metadata": {},
   "source": [
    "<div class=\"alert alert-success\">\n",
    "[문제]기온이 0ºC보다 높으면 ‘아이스 아메리카노’, 기온이 0ºC이면 ‘미지근한 아메리카노’, 나머지 경우에는 ‘따뜻한 아메리카노’를 출력하는 프로그램을 만들어 보세요.\n",
    "</div>"
   ]
  },
  {
   "cell_type": "code",
   "execution_count": 4,
   "metadata": {},
   "outputs": [
    {
     "name": "stdout",
     "output_type": "stream",
     "text": [
      "아이스 아메리카노\n"
     ]
    }
   ],
   "source": [
    "today_temp = 30\n",
    "\n",
    "if 0 today_temp > 0:\n",
    "    print(\"아이스 아메리카노\")\n",
    "elif today_temp == 0:\n",
    "    print(\"미지근한 아메리카노\")\n",
    "else:\n",
    "    print(\"따뜻한 아메리카노\")"
   ]
  },
  {
   "cell_type": "markdown",
   "metadata": {},
   "source": [
    "# 2.4.5 이중 if"
   ]
  },
  {
   "cell_type": "markdown",
   "metadata": {},
   "source": [
    "<div class=\"alert alert-success\">\n",
    "[문제]\n",
    "\n",
    "날씨가 맑은 날인 경우, 기온이 0ºC보다 높으면 ‘아이스 아메리카노’, 기온이 0ºC이면 ‘미지근한 아메리카노’, 나머지 경우에는 ‘따뜻한 아메리카노’를 출력하고\n",
    "\n",
    "날씨가 맑지 않은 경우,‘카푸치노’를 출력하는 프로그램을 만들어 보세요.\n",
    "\n",
    "</div>"
   ]
  },
  {
   "cell_type": "code",
   "execution_count": 5,
   "metadata": {},
   "outputs": [
    {
     "name": "stdout",
     "output_type": "stream",
     "text": [
      "카푸치노\n"
     ]
    }
   ],
   "source": [
    "weather = \"비\"\n",
    "today_temp = 30\n",
    "\n",
    "if weather == \"맑음\":\n",
    "    if 0 < today_temp:\n",
    "        print(\"아이스 아메리카노\")\n",
    "    elif 0 == today_temp:\n",
    "        print(\"미지근한 아메리카노\")\n",
    "    else:\n",
    "        print(\"따뜻한 아메리카노\")\n",
    "else:\n",
    "    print(\"카푸치노\")"
   ]
  },
  {
   "cell_type": "markdown",
   "metadata": {},
   "source": [
    "## 2.4.6 내 용돈의 운명은?"
   ]
  },
  {
   "cell_type": "markdown",
   "metadata": {},
   "source": [
    "<div class=\"alert alert-success\">\n",
    "[문제]\n",
    "\n",
    "이번 기말고사 시험성적에 따라 용돈의 운명이 바뀝니다. 엄마가 제시한 조건은 다음과 같습니다.\n",
    "- 영어 90점 이상, 수학 90점 이상(두 조건 모두 만족) : 용돈 인상\n",
    "- 영어 80점 이하, 수학 80점 이하(두 조건 모두 만족) : 용돈 삭감\n",
    "- 기타 : 동결\n",
    "    \n",
    "    \n",
    "수학성적과 영어성적을 담는 변수를 만들고, 점수에 따라 용돈의 운명을 출력하는 프로그램을 만들어 보세요.\n",
    "\n",
    "\n",
    "</div>"
   ]
  },
  {
   "cell_type": "code",
   "execution_count": 6,
   "metadata": {},
   "outputs": [
    {
     "name": "stdout",
     "output_type": "stream",
     "text": [
      "동결\n"
     ]
    }
   ],
   "source": [
    "# 영어 90점 이상, 수학 90점 이상: 용돈 인상\n",
    "# 영어 80점 이하, 수학 80점 이하: 용돈 삭감\n",
    "\n",
    "math_score = 80\n",
    "eng_score = 100\n",
    "\n",
    "if eng_score >= 90 and math_score >= 90:\n",
    "    print(\"YAY! 용돈 인상\")\n",
    "elif eng_score <= 80 and math_score <= 80:\n",
    "    print(\"용돈 삭감 ㅠㅠ\")\n",
    "else:\n",
    "    print(\"동결\")"
   ]
  },
  {
   "cell_type": "markdown",
   "metadata": {},
   "source": [
    "<div class=\"alert alert-success\">\n",
    "[문제]\n",
    "\n",
    "엄마가 제시한 조건은 달성하기 너무 힘들 것 같습니다. 아래와 같이 타협하려고 합니다.\n",
    "    \n",
    "- 영어 90점 이상 또는 수학 90점 이상 : 용돈 인상\n",
    "- 영어 80점 이하 또는 수학 80점 이하 : 용돈 삭감\n",
    "- 기타 : 동결\n",
    "    \n",
    "수학성적과 영어성적을 담는 변수를 만들고, 점수에 따라 용돈의 운명을 출력하는 프로그램을 만들어 보세요.\n",
    "\n",
    "</div>"
   ]
  },
  {
   "cell_type": "code",
   "execution_count": 7,
   "metadata": {},
   "outputs": [
    {
     "name": "stdout",
     "output_type": "stream",
     "text": [
      "YAY! 용돈 인상\n"
     ]
    }
   ],
   "source": [
    "# 영어 90점 이상 또는 수학 90점 이상: 용돈 인상\n",
    "# 영어 80점 이하 또는 수학 80점 이하: 용돈 삭감\n",
    "\n",
    "math_score = 80\n",
    "eng_score = 100\n",
    "\n",
    "if eng_score >= 90 or math_score >= 90:\n",
    "    print(\"YAY! 용돈 인상\")\n",
    "elif eng_score <= 80 or math_score <= 80:\n",
    "    print(\"용돈 삭감 ㅠㅠ\")\n",
    "else:\n",
    "    print(\"동결\")"
   ]
  },
  {
   "cell_type": "code",
   "execution_count": null,
   "metadata": {},
   "outputs": [],
   "source": []
  }
 ],
 "metadata": {
  "kernelspec": {
   "display_name": "Python 3",
   "language": "python",
   "name": "python3"
  },
  "language_info": {
   "codemirror_mode": {
    "name": "ipython",
    "version": 3
   },
   "file_extension": ".py",
   "mimetype": "text/x-python",
   "name": "python",
   "nbconvert_exporter": "python",
   "pygments_lexer": "ipython3",
   "version": "3.8.5"
  },
  "toc": {
   "base_numbering": 1,
   "nav_menu": {},
   "number_sections": false,
   "sideBar": true,
   "skip_h1_title": false,
   "title_cell": "Table of Contents",
   "title_sidebar": "Contents",
   "toc_cell": false,
   "toc_position": {},
   "toc_section_display": true,
   "toc_window_display": true
  }
 },
 "nbformat": 4,
 "nbformat_minor": 4
}
