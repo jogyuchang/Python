{
 "cells": [
  {
   "cell_type": "markdown",
   "metadata": {},
   "source": [
    "# 2.7.2 함수 만들기"
   ]
  },
  {
   "cell_type": "code",
   "execution_count": 1,
   "metadata": {},
   "outputs": [],
   "source": [
    "def test():\n",
    "    print(\"함수 연습\")"
   ]
  },
  {
   "cell_type": "code",
   "execution_count": 2,
   "metadata": {},
   "outputs": [],
   "source": [
    "test()"
   ]
  },
  {
   "cell_type": "markdown",
   "metadata": {},
   "source": [
    "# 2.7.3 함수 예제(1)"
   ]
  },
  {
   "cell_type": "markdown",
   "metadata": {},
   "source": [
    "<div class=\"alert alert-success\">\n",
    "[문제]기온이 0ºC보다 높으면 ‘아이스 아메리카노’를 출력하고, 그렇지 않은 경우에는 ‘따뜻한 아메리카노’를 출력하는 함수를 만들어 보세요.\n",
    "</div>"
   ]
  },
  {
   "cell_type": "code",
   "execution_count": 3,
   "metadata": {},
   "outputs": [],
   "source": [
    "def coffee(temp):\n",
    "    if temp > 0 :\n",
    "        print(\"아이스 아메리카노\")\n",
    "    else:\n",
    "        print(\"따뜻한 아메리카노\")"
   ]
  },
  {
   "cell_type": "code",
   "execution_count": 4,
   "metadata": {},
   "outputs": [],
   "source": [
    "coffee(30)"
   ]
  },
  {
   "cell_type": "code",
   "execution_count": 5,
   "metadata": {},
   "outputs": [],
   "source": [
    "coffee(-10)"
   ]
  },
  {
   "cell_type": "code",
   "execution_count": 6,
   "metadata": {},
   "outputs": [],
   "source": [
    "def coffee(temp):\n",
    "    result = ''\n",
    "    if temp > 0 :\n",
    "        result = '아이스 아메리카노'\n",
    "    else:\n",
    "        result = '따뜻한 아메리카노'\n",
    "    return result"
   ]
  },
  {
   "cell_type": "code",
   "execution_count": 7,
   "metadata": {},
   "outputs": [],
   "source": [
    "c = coffee(30)\n",
    "print('추천 커피는 {}입니다'.format(c))"
   ]
  },
  {
   "cell_type": "code",
   "execution_count": 8,
   "metadata": {},
   "outputs": [],
   "source": [
    "c = coffee(-10)\n",
    "print('추천 커피는 {}입니다'.format(c))"
   ]
  },
  {
   "cell_type": "markdown",
   "metadata": {},
   "source": [
    "<div class=\"alert alert-success\">\n",
    "[문제]\n",
    "    \n",
    "1학년 2반의 시험 성적은 다음과 같습니다. \n",
    "    \n",
    "[80, 90, 70, 65, 85, 95, 90, 80, 75, 80]\n",
    "    \n",
    "시험 문제 중, 한 문제가 잘못 출제되어 모두 5점씩 추가 점수를 받도록 조치를 취했습니다. \n",
    "변경 후 점수를 반환하는 함수를 만들어 보세요. \n",
    "\n",
    "</div> "
   ]
  },
  {
   "cell_type": "code",
   "execution_count": 9,
   "metadata": {},
   "outputs": [],
   "source": [
    "def update_scores(scores) :\n",
    "    new_scores = []\n",
    "\n",
    "    for s in scores:\n",
    "        new = s + 5\n",
    "        new_scores.append(new)\n",
    "    return new_scores"
   ]
  },
  {
   "cell_type": "code",
   "execution_count": 10,
   "metadata": {},
   "outputs": [],
   "source": [
    "scores = [80, 90, 70, 65, 85, 95, 90, 80, 75, 80]\n",
    "new = update_scores(scores)\n",
    "print(new)"
   ]
  },
  {
   "cell_type": "markdown",
   "metadata": {},
   "source": [
    "# 2.7.4 함수 예제(2)"
   ]
  },
  {
   "cell_type": "markdown",
   "metadata": {},
   "source": [
    "<div class=\"alert alert-success\">\n",
    "[문제]\n",
    "    \n",
    "동요 ‘산토끼’에서 ‘토’는 몇 번이나 나올까요? 함수로 작성해보세요.   \n",
    "산토끼 토끼야. 어디를 가느냐. 깡충깡충 뛰면서. 어디를 가느냐.   \n",
    "산고개 고개를. 나혼자 넘어서. 토실토실 알밤을. 주워 올 테야   \n",
    "\n",
    "</div> "
   ]
  },
  {
   "cell_type": "code",
   "execution_count": 11,
   "metadata": {},
   "outputs": [],
   "source": [
    "def get_char_count(lyric, char):\n",
    "    count = 0\n",
    "    for l in lyric:\n",
    "        if(l == char):\n",
    "            count = count + 1\n",
    "    return count"
   ]
  },
  {
   "cell_type": "code",
   "execution_count": 12,
   "metadata": {},
   "outputs": [],
   "source": [
    "lyric = \"\"\"산토끼 토끼야. 어디를 가느냐. 깡충깡충 뛰면서. 어디를 가느냐. \n",
    "산고개 고개를. 나혼자 넘어서. 토실토실 알밤을. 주워 올 테야.\"\"\"\n",
    "\n",
    "print(get_char_count(lyric, '토'))"
   ]
  },
  {
   "cell_type": "code",
   "execution_count": 13,
   "metadata": {},
   "outputs": [],
   "source": [
    "print(get_char_count(lyric, '산'))"
   ]
  },
  {
   "cell_type": "code",
   "execution_count": 14,
   "metadata": {},
   "outputs": [],
   "source": [
    "star = \"\"\"Twinkle, twinkle, little star,\n",
    "How I wonder what you are!\n",
    "Up above the world so high,\n",
    "Like a diamond in the sky.\"\"\"\n",
    "\n",
    "print(get_char_count(star, 'w'))"
   ]
  },
  {
   "cell_type": "markdown",
   "metadata": {},
   "source": [
    "<div class=\"alert alert-success\">\n",
    "[문제]\n",
    "    \n",
    "영어 단어 또는 문장을 인자로 받아서 대문자와 소문자로 출력하는 함수를 만들어보세요.  \n",
    "\n",
    "</div> "
   ]
  },
  {
   "cell_type": "code",
   "execution_count": 15,
   "metadata": {},
   "outputs": [],
   "source": [
    "def change_word_case(word):\n",
    "    upperCase = word.upper()\n",
    "    lowerCase = word.lower()\n",
    "    return upperCase, lowerCase"
   ]
  },
  {
   "cell_type": "code",
   "execution_count": 16,
   "metadata": {},
   "outputs": [],
   "source": [
    "change_word_case(\"I love Seoul.\")"
   ]
  },
  {
   "cell_type": "code",
   "execution_count": 17,
   "metadata": {},
   "outputs": [],
   "source": [
    "upper, lower = change_word_case(\"I love Seoul.\")\n",
    "print('대문자는 {0} 이고, 소문자는 {1}이야. 나는 대문자 {0} 문구가 적힌 티셔츠를 만들고 싶어'.format(upper, lower))"
   ]
  },
  {
   "cell_type": "code",
   "execution_count": 18,
   "metadata": {},
   "outputs": [],
   "source": [
    "upper, _ = change_word_case(\"I love Seoul.\")\n",
    "print('나는 대문자 {0} 문구가 적힌 티셔츠를 만들고 싶어'.format(upper))"
   ]
  },
  {
   "cell_type": "markdown",
   "metadata": {},
   "source": [
    "<div class=\"alert alert-success\">\n",
    "[문제]\n",
    "    \n",
    "두 수와 연산자를 입력 받아 사칙연산 결과를 출력하는 계산기를 만들어보세요.  \n",
    "\n",
    "</div> "
   ]
  },
  {
   "cell_type": "code",
   "execution_count": 19,
   "metadata": {},
   "outputs": [],
   "source": [
    "def calculator(operator, num1, num2):\n",
    "    if(operator == '+'):\n",
    "        return num1 + num2\n",
    "    elif(operator == '-'):\n",
    "        return num1 - num2\n",
    "    elif(operator == '*'):\n",
    "        return num1 * num2\n",
    "    elif(operator == '/'):\n",
    "        if(num2 != 0):\n",
    "            return num1 / num2\n",
    "    else:\n",
    "        print('{}는 연산이 불가능합니다.'.format(operator))\n",
    "    return -1"
   ]
  },
  {
   "cell_type": "code",
   "execution_count": 20,
   "metadata": {},
   "outputs": [],
   "source": [
    "calculator('+', 200, 300)"
   ]
  },
  {
   "cell_type": "code",
   "execution_count": 21,
   "metadata": {},
   "outputs": [],
   "source": [
    "calculator('*', 50, 7)"
   ]
  },
  {
   "cell_type": "code",
   "execution_count": 22,
   "metadata": {},
   "outputs": [],
   "source": [
    "calculator('?', 89, 20)"
   ]
  },
  {
   "cell_type": "markdown",
   "metadata": {},
   "source": [
    "<div class=\"alert alert-success\">\n",
    "[문제]\n",
    "    \n",
    "사용자로부터 키와 성별을 입력 받아서 권장 체중을 화면에 출력하는 함수를 작성하세요.  \n",
    "권장 체중은 다음과 같이 계산합니다.  \n",
    "-\t남성 권장 체중 = (키 – 100)   \n",
    "-\t여성 권장 체중 = (키 – 100) * 0.9  \n",
    "\n",
    "\n",
    "</div> "
   ]
  },
  {
   "cell_type": "code",
   "execution_count": 23,
   "metadata": {},
   "outputs": [],
   "source": [
    "def print_weight(height, man=True):\n",
    "    weight = 0\n",
    "    if(man):\n",
    "        weight = (height - 100) * 0.9\n",
    "    else:\n",
    "        weight = height - 100\n",
    "    print(\"권장 체중은 {}kg 입니다\".format(weight))"
   ]
  },
  {
   "cell_type": "code",
   "execution_count": 24,
   "metadata": {},
   "outputs": [],
   "source": [
    "print_weight(170)"
   ]
  },
  {
   "cell_type": "code",
   "execution_count": 25,
   "metadata": {},
   "outputs": [
    {
     "name": "stdout",
     "output_type": "stream",
     "text": [
      "권장 체중은 63.0kg 입니다\n"
     ]
    }
   ],
   "source": [
    "print_weight(170, True)"
   ]
  },
  {
   "cell_type": "code",
   "execution_count": 26,
   "metadata": {},
   "outputs": [
    {
     "name": "stdout",
     "output_type": "stream",
     "text": [
      "권장 체중은 70kg 입니다\n"
     ]
    }
   ],
   "source": [
    "print_weight(170, False)"
   ]
  },
  {
   "cell_type": "code",
   "execution_count": 27,
   "metadata": {},
   "outputs": [
    {
     "ename": "SyntaxError",
     "evalue": "non-default argument follows default argument (<ipython-input-27-8965c55a2092>, line 1)",
     "output_type": "error",
     "traceback": [
      "\u001b[1;36m  File \u001b[1;32m\"<ipython-input-27-8965c55a2092>\"\u001b[1;36m, line \u001b[1;32m1\u001b[0m\n\u001b[1;33m    def print_weight(man=True, height):\u001b[0m\n\u001b[1;37m                     ^\u001b[0m\n\u001b[1;31mSyntaxError\u001b[0m\u001b[1;31m:\u001b[0m non-default argument follows default argument\n"
     ]
    }
   ],
   "source": [
    "def print_weight(man=True, height):\n",
    "    weight = 0\n",
    "    if(man):\n",
    "        weight = height - 100 * 0.9\n",
    "    else:\n",
    "        weight = height - 100\n",
    "    print(\"권장 체중은 {}kg 입니다\".format(weight))"
   ]
  },
  {
   "cell_type": "markdown",
   "metadata": {},
   "source": [
    "<div class=\"alert alert-success\">\n",
    "[문제]\n",
    "    \n",
    "    \n",
    "입력 받은 인자를 모두 더하는 함수를 작성하세요\n",
    "</div> "
   ]
  },
  {
   "cell_type": "code",
   "execution_count": 28,
   "metadata": {},
   "outputs": [],
   "source": [
    "def sum(*args):\n",
    "    result = 0\n",
    "    for num in args:\n",
    "        result = result + num\n",
    "    return result"
   ]
  },
  {
   "cell_type": "code",
   "execution_count": 29,
   "metadata": {},
   "outputs": [
    {
     "data": {
      "text/plain": [
       "6"
      ]
     },
     "execution_count": 29,
     "metadata": {},
     "output_type": "execute_result"
    }
   ],
   "source": [
    "sum(1,2,3)"
   ]
  },
  {
   "cell_type": "code",
   "execution_count": 30,
   "metadata": {},
   "outputs": [
    {
     "data": {
      "text/plain": [
       "30"
      ]
     },
     "execution_count": 30,
     "metadata": {},
     "output_type": "execute_result"
    }
   ],
   "source": [
    "sum(2,4,6,8,10)"
   ]
  },
  {
   "cell_type": "markdown",
   "metadata": {},
   "source": [
    "# 2.7.5 람다"
   ]
  },
  {
   "cell_type": "code",
   "execution_count": 31,
   "metadata": {},
   "outputs": [
    {
     "data": {
      "text/plain": [
       "105"
      ]
     },
     "execution_count": 31,
     "metadata": {},
     "output_type": "execute_result"
    }
   ],
   "source": [
    "(lambda x : x + 5)(100)"
   ]
  },
  {
   "cell_type": "code",
   "execution_count": 32,
   "metadata": {},
   "outputs": [
    {
     "name": "stdout",
     "output_type": "stream",
     "text": [
      "105\n"
     ]
    }
   ],
   "source": [
    "sum5 = lambda x : x + 5\n",
    "print(sum5(100))"
   ]
  },
  {
   "cell_type": "code",
   "execution_count": 33,
   "metadata": {},
   "outputs": [
    {
     "name": "stdout",
     "output_type": "stream",
     "text": [
      "20\n"
     ]
    }
   ],
   "source": [
    "multiply = lambda x, y : x * y\n",
    "print(multiply(4, 5))"
   ]
  },
  {
   "cell_type": "code",
   "execution_count": 34,
   "metadata": {},
   "outputs": [
    {
     "data": {
      "text/plain": [
       "20"
      ]
     },
     "execution_count": 34,
     "metadata": {},
     "output_type": "execute_result"
    }
   ],
   "source": [
    "(lambda x, y : x * y)(4,5)"
   ]
  },
  {
   "cell_type": "markdown",
   "metadata": {},
   "source": [
    "<div class=\"alert alert-success\">\n",
    "[문제]\n",
    "    \n",
    "사용자로부터 키를 입력 받아서 권장 체중을 출력하는 람다식을 작성하세요.  \n",
    "권장 체중은 다음과 같이 계산합니다.  \n",
    "권장 체중 = (키 – 100) * 0.9  \n",
    "\n",
    "</div> "
   ]
  },
  {
   "cell_type": "code",
   "execution_count": 35,
   "metadata": {},
   "outputs": [
    {
     "name": "stdout",
     "output_type": "stream",
     "text": [
      "63.0\n"
     ]
    }
   ],
   "source": [
    "wieght = lambda height: (height-100)*0.9\n",
    "print(wieght(170))"
   ]
  },
  {
   "cell_type": "code",
   "execution_count": 36,
   "metadata": {},
   "outputs": [
    {
     "data": {
      "text/plain": [
       "63.0"
      ]
     },
     "execution_count": 36,
     "metadata": {},
     "output_type": "execute_result"
    }
   ],
   "source": [
    "(lambda height : (height - 100) * 0.9)(170)"
   ]
  },
  {
   "cell_type": "markdown",
   "metadata": {},
   "source": [
    "<div class=\"alert alert-success\">\n",
    "[문제]\n",
    "    \n",
    "사용자로부터 키와 성별을 입력 받아서 권장 체중을 화면에 출력하는 람다식을 작성하세요.  \n",
    "권장 체중은 다음과 같이 계산합니다.  \n",
    "-\t남성 권장 체중 = (키 – 100)   \n",
    "-\t여성 권장 체중 = (키 – 100) * 0.9  \n",
    "\n",
    "</div> "
   ]
  },
  {
   "cell_type": "code",
   "execution_count": 37,
   "metadata": {},
   "outputs": [],
   "source": [
    "weight2 = lambda man, height : (height - 100) * 0.9 if(man) else (height - 100)"
   ]
  },
  {
   "cell_type": "code",
   "execution_count": 38,
   "metadata": {},
   "outputs": [
    {
     "data": {
      "text/plain": [
       "70"
      ]
     },
     "execution_count": 38,
     "metadata": {},
     "output_type": "execute_result"
    }
   ],
   "source": [
    "weight2(False, 170)"
   ]
  },
  {
   "cell_type": "code",
   "execution_count": 39,
   "metadata": {},
   "outputs": [
    {
     "data": {
      "text/plain": [
       "63.0"
      ]
     },
     "execution_count": 39,
     "metadata": {},
     "output_type": "execute_result"
    }
   ],
   "source": [
    "weight2(True, 170)"
   ]
  },
  {
   "cell_type": "markdown",
   "metadata": {},
   "source": [
    "# 2.7.6 문자열"
   ]
  },
  {
   "cell_type": "markdown",
   "metadata": {},
   "source": [
    "## ① split(sep=None, maxsplit=-1)"
   ]
  },
  {
   "cell_type": "code",
   "execution_count": 40,
   "metadata": {},
   "outputs": [
    {
     "data": {
      "text/plain": [
       "['나는',\n",
       " '자랑스러운',\n",
       " '태극기',\n",
       " '앞에',\n",
       " '자유롭고',\n",
       " '정의로운',\n",
       " '대한민국의',\n",
       " '무궁한',\n",
       " '영광을',\n",
       " '위하여',\n",
       " '충성을',\n",
       " '다할',\n",
       " '것을',\n",
       " '굳게',\n",
       " '다짐합니다.']"
      ]
     },
     "execution_count": 40,
     "metadata": {},
     "output_type": "execute_result"
    }
   ],
   "source": [
    "text = \"나는 자랑스러운 태극기 앞에 자유롭고 정의로운 대한민국의 무궁한 영광을 위하여 충성을 다할 것을 굳게 다짐합니다.\"\n",
    "text.split(\" \") # 공백을 구분자로 하여 문장을 쪼갬"
   ]
  },
  {
   "cell_type": "code",
   "execution_count": 41,
   "metadata": {},
   "outputs": [
    {
     "data": {
      "text/plain": [
       "['+82', '10', '1234', '5678']"
      ]
     },
     "execution_count": 41,
     "metadata": {},
     "output_type": "execute_result"
    }
   ],
   "source": [
    "text = \"+82-10-1234-5678\"\n",
    "text.split(\"-\") #\"-\"을 구분자로 하여 문장을 쪼갬"
   ]
  },
  {
   "cell_type": "code",
   "execution_count": 42,
   "metadata": {},
   "outputs": [
    {
     "data": {
      "text/plain": [
       "['+82', '10', '1234-5678']"
      ]
     },
     "execution_count": 42,
     "metadata": {},
     "output_type": "execute_result"
    }
   ],
   "source": [
    "text.split(\"-\", 2)"
   ]
  },
  {
   "cell_type": "markdown",
   "metadata": {},
   "source": [
    "## ② strip(chars=None, /)"
   ]
  },
  {
   "cell_type": "code",
   "execution_count": 43,
   "metadata": {},
   "outputs": [
    {
     "data": {
      "text/plain": [
       "'토실토실 아기 돼지'"
      ]
     },
     "execution_count": 43,
     "metadata": {},
     "output_type": "execute_result"
    }
   ],
   "source": [
    "text = \"     토실토실 아기 돼지    \"\n",
    "text.strip()"
   ]
  },
  {
   "cell_type": "code",
   "execution_count": 44,
   "metadata": {},
   "outputs": [
    {
     "data": {
      "text/plain": [
       "'토실토실 아기 돼지'"
      ]
     },
     "execution_count": 44,
     "metadata": {},
     "output_type": "execute_result"
    }
   ],
   "source": [
    "text = \"\\n\\n\\n\\n토실토실 아기 돼지\\n\\n\\n\\n\"\n",
    "text.strip(\"\\n\")"
   ]
  },
  {
   "cell_type": "code",
   "execution_count": 45,
   "metadata": {},
   "outputs": [
    {
     "data": {
      "text/plain": [
       "'XXaaaaa토실토실 아기 돼지'"
      ]
     },
     "execution_count": 45,
     "metadata": {},
     "output_type": "execute_result"
    }
   ],
   "source": [
    "text = \"XXaaaaa토실토실 아기 돼지aaaaa\"\n",
    "text.strip(\"a\")"
   ]
  },
  {
   "cell_type": "code",
   "execution_count": 46,
   "metadata": {},
   "outputs": [
    {
     "data": {
      "text/plain": [
       "'토실토실 아기 돼지'"
      ]
     },
     "execution_count": 46,
     "metadata": {},
     "output_type": "execute_result"
    }
   ],
   "source": [
    "text = \"ababab토실토실 아기 돼지ababab\"\n",
    "text.strip(\"ab\")"
   ]
  },
  {
   "cell_type": "code",
   "execution_count": 47,
   "metadata": {},
   "outputs": [
    {
     "data": {
      "text/plain": [
       "'토실토실 아기 돼지'"
      ]
     },
     "execution_count": 47,
     "metadata": {},
     "output_type": "execute_result"
    }
   ],
   "source": [
    "text = \"aaabbbccccc토실토실 아기 돼지aaabbbccccc\"\n",
    "text.strip(\"abc\")"
   ]
  },
  {
   "cell_type": "code",
   "execution_count": 48,
   "metadata": {},
   "outputs": [
    {
     "data": {
      "text/plain": [
       "'토실토실 아기 돼지sssss'"
      ]
     },
     "execution_count": 48,
     "metadata": {},
     "output_type": "execute_result"
    }
   ],
   "source": [
    "text = \"ssss토실토실 아기 돼지sssss\"\n",
    "text.lstrip('s')"
   ]
  },
  {
   "cell_type": "code",
   "execution_count": 49,
   "metadata": {},
   "outputs": [
    {
     "data": {
      "text/plain": [
       "'ssss토실토실 아기 돼지'"
      ]
     },
     "execution_count": 49,
     "metadata": {},
     "output_type": "execute_result"
    }
   ],
   "source": [
    "text = \"ssss토실토실 아기 돼지sssss\"\n",
    "text.rstrip('s')"
   ]
  },
  {
   "cell_type": "markdown",
   "metadata": {},
   "source": [
    "## ③ join(iterable, /)"
   ]
  },
  {
   "cell_type": "code",
   "execution_count": 50,
   "metadata": {},
   "outputs": [
    {
     "data": {
      "text/plain": [
       "'인천->도쿄->뉴욕->파리'"
      ]
     },
     "execution_count": 50,
     "metadata": {},
     "output_type": "execute_result"
    }
   ],
   "source": [
    "text1 = \"->\"\n",
    "text2 = [\"인천\", \"도쿄\", \"뉴욕\", \"파리\"]\n",
    "text1.join(text2)"
   ]
  },
  {
   "cell_type": "markdown",
   "metadata": {},
   "source": [
    "## ④ find(sub[, start[, end]])"
   ]
  },
  {
   "cell_type": "code",
   "execution_count": 51,
   "metadata": {},
   "outputs": [
    {
     "data": {
      "text/plain": [
       "2"
      ]
     },
     "execution_count": 51,
     "metadata": {},
     "output_type": "execute_result"
    }
   ],
   "source": [
    "text = \"송아지 송아지 얼룩 송아지\"\n",
    "text.find(\"지\")"
   ]
  },
  {
   "cell_type": "code",
   "execution_count": 52,
   "metadata": {},
   "outputs": [
    {
     "data": {
      "text/plain": [
       "8"
      ]
     },
     "execution_count": 52,
     "metadata": {},
     "output_type": "execute_result"
    }
   ],
   "source": [
    "text = \"송아지 송아지 얼룩 송아지\"\n",
    "text.find(\"얼룩\")"
   ]
  },
  {
   "cell_type": "markdown",
   "metadata": {},
   "source": [
    "## ⑤ count(sub[, start[, end]])"
   ]
  },
  {
   "cell_type": "code",
   "execution_count": 53,
   "metadata": {},
   "outputs": [
    {
     "data": {
      "text/plain": [
       "3"
      ]
     },
     "execution_count": 53,
     "metadata": {},
     "output_type": "execute_result"
    }
   ],
   "source": [
    "text = \"송아지 송아지 얼룩 송아지\"\n",
    "text.count(\"송아지\")"
   ]
  },
  {
   "cell_type": "markdown",
   "metadata": {},
   "source": [
    "## ⑥ startswith(prefix[, start[, end]])\n",
    "## ⑦ endswith(suffix[, start[, end]])"
   ]
  },
  {
   "cell_type": "code",
   "execution_count": 54,
   "metadata": {},
   "outputs": [
    {
     "name": "stdout",
     "output_type": "stream",
     "text": [
      "True\n",
      "False\n",
      "False\n"
     ]
    }
   ],
   "source": [
    "animals = ['강아지', '송아지', '돼지']\n",
    "\n",
    "for i in animals:\n",
    "    print(i.startswith('강'))"
   ]
  },
  {
   "cell_type": "code",
   "execution_count": 55,
   "metadata": {},
   "outputs": [
    {
     "name": "stdout",
     "output_type": "stream",
     "text": [
      "True\n",
      "True\n",
      "True\n"
     ]
    }
   ],
   "source": [
    "animals = ['강아지', '송아지', '돼지']\n",
    "\n",
    "for i in animals:\n",
    "    print(i.endswith('지'))"
   ]
  },
  {
   "cell_type": "markdown",
   "metadata": {},
   "source": [
    "## ⑧ replace(old, new, count=-1, /)"
   ]
  },
  {
   "cell_type": "code",
   "execution_count": 56,
   "metadata": {},
   "outputs": [
    {
     "data": {
      "text/plain": [
       "'송아지'"
      ]
     },
     "execution_count": 56,
     "metadata": {},
     "output_type": "execute_result"
    }
   ],
   "source": [
    "text = '강아지'\n",
    "text.replace('강', '송')"
   ]
  },
  {
   "cell_type": "markdown",
   "metadata": {},
   "source": [
    "## ⑨ lower()\n",
    "## ⑩ upper()\n"
   ]
  },
  {
   "cell_type": "code",
   "execution_count": 57,
   "metadata": {},
   "outputs": [
    {
     "data": {
      "text/plain": [
       "'coffee'"
      ]
     },
     "execution_count": 57,
     "metadata": {},
     "output_type": "execute_result"
    }
   ],
   "source": [
    "text = 'Coffee'\n",
    "text.lower()"
   ]
  },
  {
   "cell_type": "code",
   "execution_count": 58,
   "metadata": {},
   "outputs": [
    {
     "data": {
      "text/plain": [
       "'COFFEE'"
      ]
     },
     "execution_count": 58,
     "metadata": {},
     "output_type": "execute_result"
    }
   ],
   "source": [
    "text.upper()"
   ]
  },
  {
   "cell_type": "code",
   "execution_count": null,
   "metadata": {},
   "outputs": [],
   "source": []
  }
 ],
 "metadata": {
  "kernelspec": {
   "display_name": "Python 3",
   "language": "python",
   "name": "python3"
  },
  "language_info": {
   "codemirror_mode": {
    "name": "ipython",
    "version": 3
   },
   "file_extension": ".py",
   "mimetype": "text/x-python",
   "name": "python",
   "nbconvert_exporter": "python",
   "pygments_lexer": "ipython3",
   "version": "3.8.5"
  },
  "toc": {
   "base_numbering": 1,
   "nav_menu": {},
   "number_sections": false,
   "sideBar": true,
   "skip_h1_title": false,
   "title_cell": "Table of Contents",
   "title_sidebar": "Contents",
   "toc_cell": false,
   "toc_position": {},
   "toc_section_display": true,
   "toc_window_display": true
  }
 },
 "nbformat": 4,
 "nbformat_minor": 4
}
