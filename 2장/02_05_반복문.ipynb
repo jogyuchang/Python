{
 "cells": [
  {
   "cell_type": "markdown",
   "metadata": {},
   "source": [
    "# 2.5.1 for"
   ]
  },
  {
   "cell_type": "markdown",
   "metadata": {},
   "source": [
    "<div class=\"alert alert-success\">\n",
    "[문제]  \n",
    "    \n",
    "1학년 2반 학생들의 시험 성적은 다음과 같습니다. \n",
    "    \n",
    "[80, 90, 70, 65, 85, 95, 90, 80, 75, 80]\n",
    "\n",
    "시험 문제 중, 한 문제가 잘못 출제되어 모두 5점씩 추가 점수를 받도록 조치를 취했습니다. \n",
    "변경 후 점수를 출력하세요. \n",
    "\n",
    "</div>"
   ]
  },
  {
   "cell_type": "code",
   "execution_count": 1,
   "metadata": {},
   "outputs": [
    {
     "name": "stdout",
     "output_type": "stream",
     "text": [
      "[85, 95, 75, 70, 90, 100, 95, 85, 80, 85]\n"
     ]
    }
   ],
   "source": [
    "scores = [80, 90, 70, 65, 85, 95, 90, 80, 75, 80]\n",
    "new_scores = []\n",
    "\n",
    "for s in scores:\n",
    "    new = s + 5\n",
    "    new_scores.append(new)\n",
    "    \n",
    "print(new_scores)"
   ]
  },
  {
   "cell_type": "markdown",
   "metadata": {},
   "source": [
    "<div class=\"alert alert-success\">\n",
    "[문제]\n",
    "    \n",
    "1학년 3반의 시험 성적은 다음과 같습니다. \n",
    "    \n",
    "[80, 90, 70, 65, 95, 100, 90, 80, 75, 80]\n",
    "\n",
    "시험 문제 중, 한 문제가 잘못 출제되어 모두 5점씩 추가 점수를 받도록 조치를 취했습니다. \n",
    "변경 후 점수를 출력하세요. \n",
    "\n",
    "(현재 100점인 학생은 변경 후 점수도 100점)\n",
    "</div>"
   ]
  },
  {
   "cell_type": "code",
   "execution_count": 2,
   "metadata": {},
   "outputs": [
    {
     "name": "stdout",
     "output_type": "stream",
     "text": [
      "[85, 95, 75, 70, 100, 100, 95, 85, 80, 85]\n"
     ]
    }
   ],
   "source": [
    "scores = [80, 90, 70, 65, 95, 100, 90, 80, 75, 80]\n",
    "new_score = []\n",
    "\n",
    "for s in scores:\n",
    "    if s < 100:\n",
    "        new = s + 5\n",
    "    else:\n",
    "        new = s\n",
    "    new_score.append(new)    \n",
    "\n",
    "print(new_score)"
   ]
  },
  {
   "cell_type": "code",
   "execution_count": 3,
   "metadata": {},
   "outputs": [
    {
     "data": {
      "text/plain": [
       "[85, 95, 75, 70, 100, 100, 95, 85, 80, 85]"
      ]
     },
     "execution_count": 3,
     "metadata": {},
     "output_type": "execute_result"
    }
   ],
   "source": [
    "new_score2 = [s + 5 if s < 100 else s for s in scores ]\n",
    "new_score2"
   ]
  },
  {
   "cell_type": "markdown",
   "metadata": {},
   "source": [
    "# 2.5.3 while"
   ]
  },
  {
   "cell_type": "code",
   "execution_count": 4,
   "metadata": {},
   "outputs": [
    {
     "name": "stdout",
     "output_type": "stream",
     "text": [
      "[85, 95, 75, 70, 100, 100, 95, 85, 80, 85]\n"
     ]
    }
   ],
   "source": [
    "scores = [80, 90, 70, 65, 95, 100, 90, 80, 75, 80]\n",
    "new_score = []\n",
    "index = 0\n",
    "\n",
    "while(index < len(scores)):\n",
    "    if scores[index] < 100:\n",
    "        new = scores[index] + 5\n",
    "    else:\n",
    "        new = scores[index]\n",
    "    new_score.append(new)\n",
    "    index = index + 1\n",
    "    \n",
    "print(new_score)"
   ]
  },
  {
   "cell_type": "markdown",
   "metadata": {},
   "source": [
    "# 2.5.4 흐름 제어"
   ]
  },
  {
   "cell_type": "markdown",
   "metadata": {},
   "source": [
    "<div class=\"alert alert-success\">\n",
    "[문제]\n",
    "    \n",
    "이번에 개발할 프로그램은 ‘스마트폰 사용량 감시 프로그램’입니다. 사용자가 스마트폰 사용 허용시간을 300분으로 지정해 두었습니다. 이 사용자는 스마트폰을 한 번 사용할 때마다 50분씩 사용한다고 할 때, 지정시간에 도달하였을 경우 핸드폰 사용을 중단하도록 하는 프로그램을 만들어 보세요.\n",
    "</div>"
   ]
  },
  {
   "cell_type": "code",
   "execution_count": 5,
   "metadata": {},
   "outputs": [
    {
     "name": "stdout",
     "output_type": "stream",
     "text": [
      "현재 사용량: 0\n",
      "현재 사용량: 50\n",
      "현재 사용량: 100\n",
      "현재 사용량: 150\n",
      "현재 사용량: 200\n",
      "현재 사용량: 250\n",
      "현재 사용량: 300\n",
      "[사용 중단]하루 사용 권장량에 도달 또는 초과하였습니다.\n"
     ]
    }
   ],
   "source": [
    "time = 0 # 누적 사용 시간\n",
    "while(True):\n",
    "    print('현재 사용량: {}'.format(time))\n",
    "    if(time >= 300):\n",
    "        print('[사용 중단]하루 사용 권장량에 도달 또는 초과하였습니다.')\n",
    "        break\n",
    "    else:\n",
    "        time = time + 50"
   ]
  },
  {
   "cell_type": "markdown",
   "metadata": {},
   "source": [
    "<div class=\"alert alert-success\">\n",
    "[문제]\n",
    " \n",
    "‘스마트폰 사용량 감시 프로그램’의 신규 버전에서는 사용자에게 현재 사용량이 150분 미만일 경우에는 ‘안전’하다는 메시지를 보여주는 컨셉이 추가되었습니다. 기존 작성한 코드에서 메시지를 보여주는 컨셉만 추가해 보세요.\n",
    "</div>"
   ]
  },
  {
   "cell_type": "code",
   "execution_count": 6,
   "metadata": {},
   "outputs": [
    {
     "name": "stdout",
     "output_type": "stream",
     "text": [
      "현재 사용량: 0\n",
      "안전\n",
      "현재 사용량: 50\n",
      "안전\n",
      "현재 사용량: 100\n",
      "안전\n",
      "현재 사용량: 150\n",
      "현재 사용량: 200\n",
      "현재 사용량: 250\n",
      "현재 사용량: 300\n",
      "[사용 중단]하루 사용 권장량에 도달 또는 초과하였습니다.\n"
     ]
    }
   ],
   "source": [
    "time = 0 # 누적 사용 시간\n",
    "while(True):\n",
    "    print('현재 사용량: {}'.format(time))\n",
    "    if(time < 150):\n",
    "        print('안전')\n",
    "    if(time >= 300):\n",
    "        print('[사용 중단]하루 사용 권장량에 도달 또는 초과하였습니다.')\n",
    "        break\n",
    "    else:\n",
    "        time = time + 50"
   ]
  },
  {
   "cell_type": "markdown",
   "metadata": {},
   "source": [
    "<div class=\"alert alert-success\">\n",
    "[문제]\n",
    "    \n",
    "‘스마트폰 사용량 감시 프로그램’의 신규 버전에서는 이전 버전에 추가되었던 ‘안전’ 메시지를 보여주는 컨셉을 삭제하기로 결정되었습니다. 기존 작성한 코드에서 메시지를 보여주는 부분이 동작하지 않도록 코드를 수정해보세요.\n",
    "</div>"
   ]
  },
  {
   "cell_type": "code",
   "execution_count": 7,
   "metadata": {},
   "outputs": [
    {
     "name": "stdout",
     "output_type": "stream",
     "text": [
      "현재 사용량: 0\n",
      "현재 사용량: 50\n",
      "현재 사용량: 100\n",
      "현재 사용량: 150\n",
      "현재 사용량: 200\n",
      "현재 사용량: 250\n",
      "현재 사용량: 300\n",
      "[사용 중단]하루 사용 권장량에 도달 또는 초과하였습니다.\n"
     ]
    }
   ],
   "source": [
    "time = 0 # 누적 사용 시간\n",
    "while(True):\n",
    "    print('현재 사용량: {}'.format(time))\n",
    "    if(time < 150):\n",
    "        pass\n",
    "    if(time >= 300):\n",
    "        print('[사용 중단]하루 사용 권장량에 도달 또는 초과하였습니다.')\n",
    "        break\n",
    "    else:\n",
    "        time = time + 50"
   ]
  },
  {
   "cell_type": "markdown",
   "metadata": {},
   "source": [
    "# 2.5.5 반복문 연습문제"
   ]
  },
  {
   "cell_type": "markdown",
   "metadata": {},
   "source": [
    "<div class=\"alert alert-success\">\n",
    "    \n",
    "[문제]\n",
    "    \n",
    "ABC 쇼핑몰에 신규 주문 목록이 아래와 같이 생성되었습니다. \n",
    "\n",
    "shopping_dict = {'주문번호': 123,   \n",
    "                 '주문자': '김**',   \n",
    "                 '주소': '서울 마포구 상암동',  \n",
    "                 '주문항목': ['맛좋은 김치', '맛좋은 라면', '시원한 물']}  \n",
    "\n",
    "for문을 사용해서 shopping_dict를 출력해보세요.  \n",
    "\n",
    "</div>"
   ]
  },
  {
   "cell_type": "code",
   "execution_count": 8,
   "metadata": {},
   "outputs": [
    {
     "name": "stdout",
     "output_type": "stream",
     "text": [
      "주문번호\n",
      "주문자\n",
      "주소\n",
      "주문항목\n"
     ]
    }
   ],
   "source": [
    "shopping_dict = {'주문번호': 123, \n",
    "                 '주문자': '김**', \n",
    "                 '주소': '서울 마포구 상암동',\n",
    "                 '주문항목': ['맛좋은 김치', '맛좋은 라면', '시원한 물']}\n",
    "\n",
    "for item in shopping_dict:\n",
    "    print(item)"
   ]
  },
  {
   "cell_type": "code",
   "execution_count": 9,
   "metadata": {},
   "outputs": [
    {
     "name": "stdout",
     "output_type": "stream",
     "text": [
      "('주문번호', 123)\n",
      "('주문자', '김**')\n",
      "('주소', '서울 마포구 상암동')\n",
      "('주문항목', ['맛좋은 김치', '맛좋은 라면', '시원한 물'])\n"
     ]
    }
   ],
   "source": [
    "for item in shopping_dict.items():\n",
    "    print(item)"
   ]
  },
  {
   "cell_type": "code",
   "execution_count": 10,
   "metadata": {
    "scrolled": true
   },
   "outputs": [
    {
     "name": "stdout",
     "output_type": "stream",
     "text": [
      "주문번호\n",
      "123\n",
      "-----\n",
      "주문자\n",
      "김**\n",
      "-----\n",
      "주소\n",
      "서울 마포구 상암동\n",
      "-----\n",
      "주문항목\n",
      "['맛좋은 김치', '맛좋은 라면', '시원한 물']\n",
      "-----\n"
     ]
    }
   ],
   "source": [
    "for key, value in shopping_dict.items():\n",
    "    print(key)\n",
    "    print(value)\n",
    "    print('-----')"
   ]
  },
  {
   "cell_type": "markdown",
   "metadata": {},
   "source": [
    "<div class=\"alert alert-success\">\n",
    "    \n",
    "[문제]\n",
    "    \n",
    "다음과 같은 칼로리 메뉴판이 있습니다.\n",
    "menu = {\"고구마\": 200, \"떡볶이\": 600, \"라면\": 800}  \n",
    "다이어트를 하기 위해 500kcal가 넘는 음식은 선택하지 않으려고 합니다. 칼로리 메뉴판에 있는 음식의 섭취 가능 여부를 출력하는 프로그램을 작성해 보세요.\n",
    "</div>"
   ]
  },
  {
   "cell_type": "code",
   "execution_count": 11,
   "metadata": {},
   "outputs": [
    {
     "name": "stdout",
     "output_type": "stream",
     "text": [
      "고구마:O\n",
      "떡볶이:X\n",
      "라면:X\n"
     ]
    }
   ],
   "source": [
    "menu = {\"고구마\": 200, \"떡볶이\": 600, \"라면\": 800}\n",
    "\n",
    "for key, value in menu.items():\n",
    "    if(value > 500):\n",
    "        print(\"{}:X\".format(key))\n",
    "    else:\n",
    "        print(\"{}:O\".format(key))"
   ]
  },
  {
   "cell_type": "markdown",
   "metadata": {},
   "source": [
    "<div class=\"alert alert-success\">\n",
    "    \n",
    "[문제]\n",
    "    \n",
    "동요 ‘산토끼’에서 ‘토’는 몇 번이나 나올까요?  \n",
    "산토끼 토끼야. 어디를 가느냐. 깡충깡충 뛰면서. 어디를 가느냐.   \n",
    "산고개 고개를. 나혼자 넘어서. 토실토실 알밤을. 주워 올 테야   \n",
    "\n",
    "</div>"
   ]
  },
  {
   "cell_type": "code",
   "execution_count": 12,
   "metadata": {},
   "outputs": [
    {
     "name": "stdout",
     "output_type": "stream",
     "text": [
      "4\n"
     ]
    }
   ],
   "source": [
    "lyric = \"\"\"산토끼 토끼야. 어디를 가느냐. 깡충깡충 뛰면서. 어디를 가느냐. \n",
    "산고개 고개를. 나혼자 넘어서. 토실토실 알밤을. 주워 올 테야.\"\"\"\n",
    "\n",
    "count = 0\n",
    "for l in lyric:\n",
    "    if(l == '토'):\n",
    "        count = count + 1\n",
    "print(count)"
   ]
  },
  {
   "cell_type": "markdown",
   "metadata": {},
   "source": [
    "<div class=\"alert alert-success\">\n",
    "    \n",
    "[문제]\n",
    "    \n",
    "구구단 3단을 작성해보세요.\n",
    "</div>"
   ]
  },
  {
   "cell_type": "code",
   "execution_count": 13,
   "metadata": {},
   "outputs": [
    {
     "data": {
      "text/plain": [
       "range(0, 9)"
      ]
     },
     "execution_count": 13,
     "metadata": {},
     "output_type": "execute_result"
    }
   ],
   "source": [
    "range(9)"
   ]
  },
  {
   "cell_type": "code",
   "execution_count": 14,
   "metadata": {},
   "outputs": [
    {
     "name": "stdout",
     "output_type": "stream",
     "text": [
      "0\n",
      "1\n",
      "2\n",
      "3\n",
      "4\n",
      "5\n",
      "6\n",
      "7\n",
      "8\n"
     ]
    }
   ],
   "source": [
    "for num in range(9):\n",
    "    print(num)"
   ]
  },
  {
   "cell_type": "code",
   "execution_count": 15,
   "metadata": {},
   "outputs": [
    {
     "name": "stdout",
     "output_type": "stream",
     "text": [
      "3 * 1 = 3\n",
      "3 * 2 = 6\n",
      "3 * 3 = 9\n",
      "3 * 4 = 12\n",
      "3 * 5 = 15\n",
      "3 * 6 = 18\n",
      "3 * 7 = 21\n",
      "3 * 8 = 24\n",
      "3 * 9 = 27\n"
     ]
    }
   ],
   "source": [
    "for num in range(9):\n",
    "    print(\"3 * {} = {}\".format(num + 1, (num+1)*3))"
   ]
  },
  {
   "cell_type": "markdown",
   "metadata": {},
   "source": [
    "<div class=\"alert alert-success\">\n",
    "    \n",
    "[문제]\n",
    "    \n",
    "하루에 다섯 쪽씩 20일 동안 책을 공부하려고 합니다. 공부 스케줄을 출력하는 프로그램을 작성해 보세요.\n",
    "</div>"
   ]
  },
  {
   "cell_type": "code",
   "execution_count": 16,
   "metadata": {},
   "outputs": [
    {
     "name": "stdout",
     "output_type": "stream",
     "text": [
      "[1일차 공부계획]\n",
      " 1쪽 공부\n",
      " 2쪽 공부\n",
      " 3쪽 공부\n",
      " 4쪽 공부\n",
      " 5쪽 공부\n",
      "[2일차 공부계획]\n",
      " 6쪽 공부\n",
      " 7쪽 공부\n",
      " 8쪽 공부\n",
      " 9쪽 공부\n",
      " 10쪽 공부\n",
      "[3일차 공부계획]\n",
      " 11쪽 공부\n",
      " 12쪽 공부\n",
      " 13쪽 공부\n",
      " 14쪽 공부\n",
      " 15쪽 공부\n",
      "[4일차 공부계획]\n",
      " 16쪽 공부\n",
      " 17쪽 공부\n",
      " 18쪽 공부\n",
      " 19쪽 공부\n",
      " 20쪽 공부\n",
      "[5일차 공부계획]\n",
      " 21쪽 공부\n",
      " 22쪽 공부\n",
      " 23쪽 공부\n",
      " 24쪽 공부\n",
      " 25쪽 공부\n",
      "[6일차 공부계획]\n",
      " 26쪽 공부\n",
      " 27쪽 공부\n",
      " 28쪽 공부\n",
      " 29쪽 공부\n",
      " 30쪽 공부\n",
      "[7일차 공부계획]\n",
      " 31쪽 공부\n",
      " 32쪽 공부\n",
      " 33쪽 공부\n",
      " 34쪽 공부\n",
      " 35쪽 공부\n",
      "[8일차 공부계획]\n",
      " 36쪽 공부\n",
      " 37쪽 공부\n",
      " 38쪽 공부\n",
      " 39쪽 공부\n",
      " 40쪽 공부\n",
      "[9일차 공부계획]\n",
      " 41쪽 공부\n",
      " 42쪽 공부\n",
      " 43쪽 공부\n",
      " 44쪽 공부\n",
      " 45쪽 공부\n",
      "[10일차 공부계획]\n",
      " 46쪽 공부\n",
      " 47쪽 공부\n",
      " 48쪽 공부\n",
      " 49쪽 공부\n",
      " 50쪽 공부\n",
      "[11일차 공부계획]\n",
      " 51쪽 공부\n",
      " 52쪽 공부\n",
      " 53쪽 공부\n",
      " 54쪽 공부\n",
      " 55쪽 공부\n",
      "[12일차 공부계획]\n",
      " 56쪽 공부\n",
      " 57쪽 공부\n",
      " 58쪽 공부\n",
      " 59쪽 공부\n",
      " 60쪽 공부\n",
      "[13일차 공부계획]\n",
      " 61쪽 공부\n",
      " 62쪽 공부\n",
      " 63쪽 공부\n",
      " 64쪽 공부\n",
      " 65쪽 공부\n",
      "[14일차 공부계획]\n",
      " 66쪽 공부\n",
      " 67쪽 공부\n",
      " 68쪽 공부\n",
      " 69쪽 공부\n",
      " 70쪽 공부\n",
      "[15일차 공부계획]\n",
      " 71쪽 공부\n",
      " 72쪽 공부\n",
      " 73쪽 공부\n",
      " 74쪽 공부\n",
      " 75쪽 공부\n",
      "[16일차 공부계획]\n",
      " 76쪽 공부\n",
      " 77쪽 공부\n",
      " 78쪽 공부\n",
      " 79쪽 공부\n",
      " 80쪽 공부\n",
      "[17일차 공부계획]\n",
      " 81쪽 공부\n",
      " 82쪽 공부\n",
      " 83쪽 공부\n",
      " 84쪽 공부\n",
      " 85쪽 공부\n",
      "[18일차 공부계획]\n",
      " 86쪽 공부\n",
      " 87쪽 공부\n",
      " 88쪽 공부\n",
      " 89쪽 공부\n",
      " 90쪽 공부\n",
      "[19일차 공부계획]\n",
      " 91쪽 공부\n",
      " 92쪽 공부\n",
      " 93쪽 공부\n",
      " 94쪽 공부\n",
      " 95쪽 공부\n",
      "[20일차 공부계획]\n",
      " 96쪽 공부\n",
      " 97쪽 공부\n",
      " 98쪽 공부\n",
      " 99쪽 공부\n",
      " 100쪽 공부\n"
     ]
    }
   ],
   "source": [
    "bookmark = 0\n",
    "for day in range(20):\n",
    "    print(\"[{}일차 공부계획]\".format(day+1))\n",
    "    for s in range(5):\n",
    "        print(\" {}쪽 공부\".format(bookmark+s+1))\n",
    "    bookmark = bookmark + s + 1"
   ]
  },
  {
   "cell_type": "code",
   "execution_count": null,
   "metadata": {},
   "outputs": [],
   "source": []
  }
 ],
 "metadata": {
  "kernelspec": {
   "display_name": "Python 3",
   "language": "python",
   "name": "python3"
  },
  "language_info": {
   "codemirror_mode": {
    "name": "ipython",
    "version": 3
   },
   "file_extension": ".py",
   "mimetype": "text/x-python",
   "name": "python",
   "nbconvert_exporter": "python",
   "pygments_lexer": "ipython3",
   "version": "3.8.5"
  },
  "toc": {
   "base_numbering": 1,
   "nav_menu": {},
   "number_sections": false,
   "sideBar": true,
   "skip_h1_title": false,
   "title_cell": "Table of Contents",
   "title_sidebar": "Contents",
   "toc_cell": false,
   "toc_position": {},
   "toc_section_display": true,
   "toc_window_display": true
  }
 },
 "nbformat": 4,
 "nbformat_minor": 4
}
