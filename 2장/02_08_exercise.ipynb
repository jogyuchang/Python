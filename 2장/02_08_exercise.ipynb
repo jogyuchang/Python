{
 "cells": [
  {
   "cell_type": "markdown",
   "metadata": {},
   "source": [
    "주제 1. 초등학교 1학년 수학 문제 생성 프로그램\n",
    " Level1: 한 자리수 더하기 다섯 문제를 생성해서 화면에 출력(중복 문제 허용, 0~9까지)\n",
    " Level2: 한 자리수 빼기 다섯 문제를 생성해서 화면에 출력(중복 문제 허용, 0~9까지, 마이너스 정답 없음)\n",
    " Level3: 한 자리수 더하기 다섯 문제, 한자리수 빼기 다섯 문제를 생성하여 텍스트 파일에 저장\n",
    " Level4: 한 자리수 더하기 다섯 문제, 한자리수 빼기 다섯 문제를 생성하고, 학생 이름과 00일차 문제를 표시하여 파일에 저장\n",
    " Level5. 30일치 문제를 생성하여 저장\n",
    " Level6. 30 일치 문제와 정답을 생성하여 저장 "
   ]
  },
  {
   "cell_type": "markdown",
   "metadata": {},
   "source": [
    "## level1"
   ]
  },
  {
   "cell_type": "code",
   "execution_count": 3,
   "metadata": {},
   "outputs": [
    {
     "name": "stdout",
     "output_type": "stream",
     "text": [
      "1. 4 + 2 = \n",
      "2. 5 + 0 = \n",
      "3. 6 + 5 = \n",
      "4. 2 + 8 = \n",
      "5. 1 + 1 = \n"
     ]
    }
   ],
   "source": [
    "import random\n",
    "\n",
    "for i in range(5):\n",
    "    a = random.randint(0,9)\n",
    "    b = random.randint(0,9)\n",
    "    question = \"{}. {} + {} = \"\n",
    "    print(question.format(i+1, a, b))"
   ]
  },
  {
   "cell_type": "markdown",
   "metadata": {},
   "source": [
    "## level2"
   ]
  },
  {
   "cell_type": "code",
   "execution_count": 4,
   "metadata": {},
   "outputs": [
    {
     "name": "stdout",
     "output_type": "stream",
     "text": [
      "1. 9 - 1 = \n",
      "2. 9 - 3 = \n",
      "3. 4 - 0 = \n",
      "4. 6 - 1 = \n",
      "5. 8 - 4 = \n"
     ]
    }
   ],
   "source": [
    "for i in range(5):\n",
    "    a = random.randint(0,9)\n",
    "    b = random.randint(0,9)\n",
    "    question = \"{}. {} - {} = \"\n",
    "    if a >= b:\n",
    "        print(question.format(i+1, a, b))\n",
    "    else:\n",
    "        print(question.format(i+1, b, a))"
   ]
  },
  {
   "cell_type": "markdown",
   "metadata": {},
   "source": [
    "## level3"
   ]
  },
  {
   "cell_type": "code",
   "execution_count": 5,
   "metadata": {},
   "outputs": [],
   "source": [
    "def addCreator(num, file_name):\n",
    "    with open(file_name, \"a\") as f:\n",
    "        for i in range(num):\n",
    "            a = random.randint(0,9)\n",
    "            b = random.randint(0,9)\n",
    "            question = \"{}. {} + {} = \"\n",
    "            f.write(question.format(i+1, a, b))\n",
    "\n",
    "def minusCreator(num, file_name):\n",
    "    with open(file_name, \"a\") as f:\n",
    "        for i in range(5):\n",
    "            a = random.randint(0,9)\n",
    "            b = random.randint(0,9)\n",
    "            question = \"{}. {} - {} = \"\n",
    "            if a >= b:\n",
    "                f.write(question.format(i+1, a, b))\n",
    "            else:\n",
    "                f.write(question.format(i+1, b, a))\n",
    "\n",
    "file_name = \"math.txt\"\n",
    "addCreator(5, file_name)\n",
    "minusCreator(5, file_name)\n"
   ]
  },
  {
   "cell_type": "markdown",
   "metadata": {},
   "source": [
    "주제 2. 다이어트 프로그램\n",
    "Level1: 사용자의 프로필 입력(이름, 성별, 키, 몸무게)\n",
    "Level2: 사용자의 적정 체중 도출(남성 적정체중 = 키 – 110, 여성 적정체중 = 키 - 100)\n",
    "Level3: 사용자의 운동 강도 설정(현재 체중이 적정 체중과 같으면 중, 많으면 상, 적으면 하)\n",
    "Level4: 1일차: 유산소, 2일차: 근력, 3일차 휴식의 스케줄이 반복되도록 30일치 운동스케줄을 설정\n",
    "Level5: 사용자의 프로필, 적정체중, 운동강도, 30일치 운동 스케줄을 한 파일에 저장"
   ]
  }
 ],
 "metadata": {
  "kernelspec": {
   "display_name": "Python 3",
   "language": "python",
   "name": "python3"
  },
  "language_info": {
   "codemirror_mode": {
    "name": "ipython",
    "version": 3
   },
   "file_extension": ".py",
   "mimetype": "text/x-python",
   "name": "python",
   "nbconvert_exporter": "python",
   "pygments_lexer": "ipython3",
   "version": "3.7.6"
  },
  "toc": {
   "base_numbering": 1,
   "nav_menu": {},
   "number_sections": false,
   "sideBar": true,
   "skip_h1_title": false,
   "title_cell": "Table of Contents",
   "title_sidebar": "Contents",
   "toc_cell": false,
   "toc_position": {},
   "toc_section_display": true,
   "toc_window_display": false
  }
 },
 "nbformat": 4,
 "nbformat_minor": 4
}
